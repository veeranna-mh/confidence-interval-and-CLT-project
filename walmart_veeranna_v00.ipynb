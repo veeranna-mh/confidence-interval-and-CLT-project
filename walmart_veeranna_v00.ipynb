{
 "cells": [
  {
   "cell_type": "markdown",
   "id": "91688a22",
   "metadata": {},
   "source": [
    "## Purpose (walmart): \n",
    "#### The Management team at Walmart Inc. wants to analyze the customer purchase behavior (specifically, purchase amount) against the customer’s gender and the various other factors to help the business make better decisions. They want to understand if the spending habits differ between male and female customers: Do women spend more on Black Friday than men? (Assume 50 million customers are male and 50 million are female).\n",
    "\n",
    "## Purpose (self):\n",
    "#### To explore and see the relationship between sample and population; influence of sample size; "
   ]
  },
  {
   "cell_type": "code",
   "execution_count": null,
   "id": "0868e45d",
   "metadata": {},
   "outputs": [],
   "source": []
  },
  {
   "cell_type": "code",
   "execution_count": 355,
   "id": "10072e4a",
   "metadata": {},
   "outputs": [],
   "source": [
    "import numpy as np\n",
    "import pandas as pd\n",
    "import matplotlib.pyplot as plt\n",
    "import seaborn as sns\n",
    "from scipy.stats import norm\n"
   ]
  },
  {
   "cell_type": "markdown",
   "id": "dd894242",
   "metadata": {},
   "source": [
    "### Read the csv file into data frame"
   ]
  },
  {
   "cell_type": "code",
   "execution_count": 191,
   "id": "5dcbf495",
   "metadata": {},
   "outputs": [],
   "source": [
    "df=pd.read_csv('walmart_data.csv')"
   ]
  },
  {
   "cell_type": "code",
   "execution_count": 192,
   "id": "002186ec",
   "metadata": {},
   "outputs": [
    {
     "name": "stdout",
     "output_type": "stream",
     "text": [
      "<class 'pandas.core.frame.DataFrame'>\n",
      "RangeIndex: 550068 entries, 0 to 550067\n",
      "Data columns (total 10 columns):\n",
      " #   Column                      Non-Null Count   Dtype \n",
      "---  ------                      --------------   ----- \n",
      " 0   User_ID                     550068 non-null  int64 \n",
      " 1   Product_ID                  550068 non-null  object\n",
      " 2   Gender                      550068 non-null  object\n",
      " 3   Age                         550068 non-null  object\n",
      " 4   Occupation                  550068 non-null  int64 \n",
      " 5   City_Category               550068 non-null  object\n",
      " 6   Stay_In_Current_City_Years  550068 non-null  object\n",
      " 7   Marital_Status              550068 non-null  int64 \n",
      " 8   Product_Category            550068 non-null  int64 \n",
      " 9   Purchase                    550068 non-null  int64 \n",
      "dtypes: int64(5), object(5)\n",
      "memory usage: 42.0+ MB\n"
     ]
    }
   ],
   "source": [
    "df.info()"
   ]
  },
  {
   "cell_type": "code",
   "execution_count": 193,
   "id": "b3a66489",
   "metadata": {},
   "outputs": [
    {
     "data": {
      "text/html": [
       "<div>\n",
       "<style scoped>\n",
       "    .dataframe tbody tr th:only-of-type {\n",
       "        vertical-align: middle;\n",
       "    }\n",
       "\n",
       "    .dataframe tbody tr th {\n",
       "        vertical-align: top;\n",
       "    }\n",
       "\n",
       "    .dataframe thead th {\n",
       "        text-align: right;\n",
       "    }\n",
       "</style>\n",
       "<table border=\"1\" class=\"dataframe\">\n",
       "  <thead>\n",
       "    <tr style=\"text-align: right;\">\n",
       "      <th></th>\n",
       "      <th>User_ID</th>\n",
       "      <th>Product_ID</th>\n",
       "      <th>Gender</th>\n",
       "      <th>Age</th>\n",
       "      <th>Occupation</th>\n",
       "      <th>City_Category</th>\n",
       "      <th>Stay_In_Current_City_Years</th>\n",
       "      <th>Marital_Status</th>\n",
       "      <th>Product_Category</th>\n",
       "      <th>Purchase</th>\n",
       "    </tr>\n",
       "  </thead>\n",
       "  <tbody>\n",
       "    <tr>\n",
       "      <th>0</th>\n",
       "      <td>1000001</td>\n",
       "      <td>P00069042</td>\n",
       "      <td>F</td>\n",
       "      <td>0-17</td>\n",
       "      <td>10</td>\n",
       "      <td>A</td>\n",
       "      <td>2</td>\n",
       "      <td>0</td>\n",
       "      <td>3</td>\n",
       "      <td>8370</td>\n",
       "    </tr>\n",
       "    <tr>\n",
       "      <th>1</th>\n",
       "      <td>1000001</td>\n",
       "      <td>P00248942</td>\n",
       "      <td>F</td>\n",
       "      <td>0-17</td>\n",
       "      <td>10</td>\n",
       "      <td>A</td>\n",
       "      <td>2</td>\n",
       "      <td>0</td>\n",
       "      <td>1</td>\n",
       "      <td>15200</td>\n",
       "    </tr>\n",
       "    <tr>\n",
       "      <th>2</th>\n",
       "      <td>1000001</td>\n",
       "      <td>P00087842</td>\n",
       "      <td>F</td>\n",
       "      <td>0-17</td>\n",
       "      <td>10</td>\n",
       "      <td>A</td>\n",
       "      <td>2</td>\n",
       "      <td>0</td>\n",
       "      <td>12</td>\n",
       "      <td>1422</td>\n",
       "    </tr>\n",
       "    <tr>\n",
       "      <th>3</th>\n",
       "      <td>1000001</td>\n",
       "      <td>P00085442</td>\n",
       "      <td>F</td>\n",
       "      <td>0-17</td>\n",
       "      <td>10</td>\n",
       "      <td>A</td>\n",
       "      <td>2</td>\n",
       "      <td>0</td>\n",
       "      <td>12</td>\n",
       "      <td>1057</td>\n",
       "    </tr>\n",
       "    <tr>\n",
       "      <th>4</th>\n",
       "      <td>1000002</td>\n",
       "      <td>P00285442</td>\n",
       "      <td>M</td>\n",
       "      <td>55+</td>\n",
       "      <td>16</td>\n",
       "      <td>C</td>\n",
       "      <td>4+</td>\n",
       "      <td>0</td>\n",
       "      <td>8</td>\n",
       "      <td>7969</td>\n",
       "    </tr>\n",
       "    <tr>\n",
       "      <th>5</th>\n",
       "      <td>1000003</td>\n",
       "      <td>P00193542</td>\n",
       "      <td>M</td>\n",
       "      <td>26-35</td>\n",
       "      <td>15</td>\n",
       "      <td>A</td>\n",
       "      <td>3</td>\n",
       "      <td>0</td>\n",
       "      <td>1</td>\n",
       "      <td>15227</td>\n",
       "    </tr>\n",
       "    <tr>\n",
       "      <th>6</th>\n",
       "      <td>1000004</td>\n",
       "      <td>P00184942</td>\n",
       "      <td>M</td>\n",
       "      <td>46-50</td>\n",
       "      <td>7</td>\n",
       "      <td>B</td>\n",
       "      <td>2</td>\n",
       "      <td>1</td>\n",
       "      <td>1</td>\n",
       "      <td>19215</td>\n",
       "    </tr>\n",
       "    <tr>\n",
       "      <th>7</th>\n",
       "      <td>1000004</td>\n",
       "      <td>P00346142</td>\n",
       "      <td>M</td>\n",
       "      <td>46-50</td>\n",
       "      <td>7</td>\n",
       "      <td>B</td>\n",
       "      <td>2</td>\n",
       "      <td>1</td>\n",
       "      <td>1</td>\n",
       "      <td>15854</td>\n",
       "    </tr>\n",
       "    <tr>\n",
       "      <th>8</th>\n",
       "      <td>1000004</td>\n",
       "      <td>P0097242</td>\n",
       "      <td>M</td>\n",
       "      <td>46-50</td>\n",
       "      <td>7</td>\n",
       "      <td>B</td>\n",
       "      <td>2</td>\n",
       "      <td>1</td>\n",
       "      <td>1</td>\n",
       "      <td>15686</td>\n",
       "    </tr>\n",
       "    <tr>\n",
       "      <th>9</th>\n",
       "      <td>1000005</td>\n",
       "      <td>P00274942</td>\n",
       "      <td>M</td>\n",
       "      <td>26-35</td>\n",
       "      <td>20</td>\n",
       "      <td>A</td>\n",
       "      <td>1</td>\n",
       "      <td>1</td>\n",
       "      <td>8</td>\n",
       "      <td>7871</td>\n",
       "    </tr>\n",
       "  </tbody>\n",
       "</table>\n",
       "</div>"
      ],
      "text/plain": [
       "   User_ID Product_ID Gender    Age  Occupation City_Category  \\\n",
       "0  1000001  P00069042      F   0-17          10             A   \n",
       "1  1000001  P00248942      F   0-17          10             A   \n",
       "2  1000001  P00087842      F   0-17          10             A   \n",
       "3  1000001  P00085442      F   0-17          10             A   \n",
       "4  1000002  P00285442      M    55+          16             C   \n",
       "5  1000003  P00193542      M  26-35          15             A   \n",
       "6  1000004  P00184942      M  46-50           7             B   \n",
       "7  1000004  P00346142      M  46-50           7             B   \n",
       "8  1000004   P0097242      M  46-50           7             B   \n",
       "9  1000005  P00274942      M  26-35          20             A   \n",
       "\n",
       "  Stay_In_Current_City_Years  Marital_Status  Product_Category  Purchase  \n",
       "0                          2               0                 3      8370  \n",
       "1                          2               0                 1     15200  \n",
       "2                          2               0                12      1422  \n",
       "3                          2               0                12      1057  \n",
       "4                         4+               0                 8      7969  \n",
       "5                          3               0                 1     15227  \n",
       "6                          2               1                 1     19215  \n",
       "7                          2               1                 1     15854  \n",
       "8                          2               1                 1     15686  \n",
       "9                          1               1                 8      7871  "
      ]
     },
     "execution_count": 193,
     "metadata": {},
     "output_type": "execute_result"
    }
   ],
   "source": [
    "df.head(10)"
   ]
  },
  {
   "cell_type": "markdown",
   "id": "70efc79f",
   "metadata": {},
   "source": [
    "#### transaction id ( or any column which can act as transaction identifier) is not available, I have taken the sum of \"Purchase\" as\n",
    "#### Purchase_Total for each User_ID. so the analysis is based on total purchase by each user, not average transaction amount."
   ]
  },
  {
   "cell_type": "code",
   "execution_count": 194,
   "id": "05b0242a",
   "metadata": {},
   "outputs": [
    {
     "data": {
      "text/plain": [
       "5891"
      ]
     },
     "execution_count": 194,
     "metadata": {},
     "output_type": "execute_result"
    }
   ],
   "source": [
    "df['User_ID'].nunique()"
   ]
  },
  {
   "cell_type": "markdown",
   "id": "1730d083",
   "metadata": {},
   "source": [
    "#### There are 5891 unique users who have made 0.55 million transactions (?)"
   ]
  },
  {
   "cell_type": "code",
   "execution_count": 195,
   "id": "9a2f0fe6",
   "metadata": {},
   "outputs": [
    {
     "data": {
      "text/plain": [
       "3631"
      ]
     },
     "execution_count": 195,
     "metadata": {},
     "output_type": "execute_result"
    }
   ],
   "source": [
    "df['Product_ID'].nunique()"
   ]
  },
  {
   "cell_type": "markdown",
   "id": "d4b2322f",
   "metadata": {},
   "source": [
    "#### there are 3631 unique products"
   ]
  },
  {
   "cell_type": "code",
   "execution_count": 196,
   "id": "2376491f",
   "metadata": {},
   "outputs": [
    {
     "data": {
      "text/plain": [
       "21"
      ]
     },
     "execution_count": 196,
     "metadata": {},
     "output_type": "execute_result"
    }
   ],
   "source": [
    "df['Occupation'].nunique()"
   ]
  },
  {
   "cell_type": "markdown",
   "id": "4e0d9e5c",
   "metadata": {},
   "source": [
    "#### there are 21 unique occupations of users"
   ]
  },
  {
   "cell_type": "code",
   "execution_count": 197,
   "id": "e9ca7f4d",
   "metadata": {},
   "outputs": [
    {
     "data": {
      "text/plain": [
       "20"
      ]
     },
     "execution_count": 197,
     "metadata": {},
     "output_type": "execute_result"
    }
   ],
   "source": [
    "df['Product_Category'].nunique()"
   ]
  },
  {
   "cell_type": "markdown",
   "id": "7ed7cd28",
   "metadata": {},
   "source": [
    "#### there are as many as 20 Product Categories"
   ]
  },
  {
   "cell_type": "code",
   "execution_count": 285,
   "id": "024c3950",
   "metadata": {},
   "outputs": [],
   "source": [
    "df1=df.iloc[:,[0,2,3,4,5,6,7,9]]"
   ]
  },
  {
   "cell_type": "markdown",
   "id": "38300eab",
   "metadata": {},
   "source": [
    "#### Product ID and Product Category have been dropped for the purpose of performing groupby & merging operation"
   ]
  },
  {
   "cell_type": "code",
   "execution_count": 286,
   "id": "3130e646",
   "metadata": {},
   "outputs": [
    {
     "data": {
      "text/html": [
       "<div>\n",
       "<style scoped>\n",
       "    .dataframe tbody tr th:only-of-type {\n",
       "        vertical-align: middle;\n",
       "    }\n",
       "\n",
       "    .dataframe tbody tr th {\n",
       "        vertical-align: top;\n",
       "    }\n",
       "\n",
       "    .dataframe thead th {\n",
       "        text-align: right;\n",
       "    }\n",
       "</style>\n",
       "<table border=\"1\" class=\"dataframe\">\n",
       "  <thead>\n",
       "    <tr style=\"text-align: right;\">\n",
       "      <th></th>\n",
       "      <th>User_ID</th>\n",
       "      <th>Gender</th>\n",
       "      <th>Age</th>\n",
       "      <th>Occupation</th>\n",
       "      <th>City_Category</th>\n",
       "      <th>Stay_In_Current_City_Years</th>\n",
       "      <th>Marital_Status</th>\n",
       "      <th>Purchase</th>\n",
       "    </tr>\n",
       "  </thead>\n",
       "  <tbody>\n",
       "    <tr>\n",
       "      <th>0</th>\n",
       "      <td>1000001</td>\n",
       "      <td>F</td>\n",
       "      <td>0-17</td>\n",
       "      <td>10</td>\n",
       "      <td>A</td>\n",
       "      <td>2</td>\n",
       "      <td>0</td>\n",
       "      <td>8370</td>\n",
       "    </tr>\n",
       "    <tr>\n",
       "      <th>1</th>\n",
       "      <td>1000001</td>\n",
       "      <td>F</td>\n",
       "      <td>0-17</td>\n",
       "      <td>10</td>\n",
       "      <td>A</td>\n",
       "      <td>2</td>\n",
       "      <td>0</td>\n",
       "      <td>15200</td>\n",
       "    </tr>\n",
       "    <tr>\n",
       "      <th>2</th>\n",
       "      <td>1000001</td>\n",
       "      <td>F</td>\n",
       "      <td>0-17</td>\n",
       "      <td>10</td>\n",
       "      <td>A</td>\n",
       "      <td>2</td>\n",
       "      <td>0</td>\n",
       "      <td>1422</td>\n",
       "    </tr>\n",
       "    <tr>\n",
       "      <th>3</th>\n",
       "      <td>1000001</td>\n",
       "      <td>F</td>\n",
       "      <td>0-17</td>\n",
       "      <td>10</td>\n",
       "      <td>A</td>\n",
       "      <td>2</td>\n",
       "      <td>0</td>\n",
       "      <td>1057</td>\n",
       "    </tr>\n",
       "    <tr>\n",
       "      <th>4</th>\n",
       "      <td>1000002</td>\n",
       "      <td>M</td>\n",
       "      <td>55+</td>\n",
       "      <td>16</td>\n",
       "      <td>C</td>\n",
       "      <td>4+</td>\n",
       "      <td>0</td>\n",
       "      <td>7969</td>\n",
       "    </tr>\n",
       "  </tbody>\n",
       "</table>\n",
       "</div>"
      ],
      "text/plain": [
       "   User_ID Gender   Age  Occupation City_Category Stay_In_Current_City_Years  \\\n",
       "0  1000001      F  0-17          10             A                          2   \n",
       "1  1000001      F  0-17          10             A                          2   \n",
       "2  1000001      F  0-17          10             A                          2   \n",
       "3  1000001      F  0-17          10             A                          2   \n",
       "4  1000002      M   55+          16             C                         4+   \n",
       "\n",
       "   Marital_Status  Purchase  \n",
       "0               0      8370  \n",
       "1               0     15200  \n",
       "2               0      1422  \n",
       "3               0      1057  \n",
       "4               0      7969  "
      ]
     },
     "execution_count": 286,
     "metadata": {},
     "output_type": "execute_result"
    }
   ],
   "source": [
    "df1.head()"
   ]
  },
  {
   "cell_type": "code",
   "execution_count": 287,
   "id": "4fd73199",
   "metadata": {},
   "outputs": [
    {
     "data": {
      "text/plain": [
       "(550068, 8)"
      ]
     },
     "execution_count": 287,
     "metadata": {},
     "output_type": "execute_result"
    }
   ],
   "source": [
    "df1.shape"
   ]
  },
  {
   "cell_type": "code",
   "execution_count": 288,
   "id": "9d08c23c",
   "metadata": {},
   "outputs": [],
   "source": [
    "df2=df1.groupby('User_ID', as_index =False)['Purchase'].sum()"
   ]
  },
  {
   "cell_type": "code",
   "execution_count": 289,
   "id": "0ebcb6f0",
   "metadata": {},
   "outputs": [
    {
     "data": {
      "text/html": [
       "<div>\n",
       "<style scoped>\n",
       "    .dataframe tbody tr th:only-of-type {\n",
       "        vertical-align: middle;\n",
       "    }\n",
       "\n",
       "    .dataframe tbody tr th {\n",
       "        vertical-align: top;\n",
       "    }\n",
       "\n",
       "    .dataframe thead th {\n",
       "        text-align: right;\n",
       "    }\n",
       "</style>\n",
       "<table border=\"1\" class=\"dataframe\">\n",
       "  <thead>\n",
       "    <tr style=\"text-align: right;\">\n",
       "      <th></th>\n",
       "      <th>User_ID</th>\n",
       "      <th>Purchase</th>\n",
       "    </tr>\n",
       "  </thead>\n",
       "  <tbody>\n",
       "    <tr>\n",
       "      <th>0</th>\n",
       "      <td>1000001</td>\n",
       "      <td>334093</td>\n",
       "    </tr>\n",
       "    <tr>\n",
       "      <th>1</th>\n",
       "      <td>1000002</td>\n",
       "      <td>810472</td>\n",
       "    </tr>\n",
       "    <tr>\n",
       "      <th>2</th>\n",
       "      <td>1000003</td>\n",
       "      <td>341635</td>\n",
       "    </tr>\n",
       "    <tr>\n",
       "      <th>3</th>\n",
       "      <td>1000004</td>\n",
       "      <td>206468</td>\n",
       "    </tr>\n",
       "    <tr>\n",
       "      <th>4</th>\n",
       "      <td>1000005</td>\n",
       "      <td>821001</td>\n",
       "    </tr>\n",
       "    <tr>\n",
       "      <th>...</th>\n",
       "      <td>...</td>\n",
       "      <td>...</td>\n",
       "    </tr>\n",
       "    <tr>\n",
       "      <th>5886</th>\n",
       "      <td>1006036</td>\n",
       "      <td>4116058</td>\n",
       "    </tr>\n",
       "    <tr>\n",
       "      <th>5887</th>\n",
       "      <td>1006037</td>\n",
       "      <td>1119538</td>\n",
       "    </tr>\n",
       "    <tr>\n",
       "      <th>5888</th>\n",
       "      <td>1006038</td>\n",
       "      <td>90034</td>\n",
       "    </tr>\n",
       "    <tr>\n",
       "      <th>5889</th>\n",
       "      <td>1006039</td>\n",
       "      <td>590319</td>\n",
       "    </tr>\n",
       "    <tr>\n",
       "      <th>5890</th>\n",
       "      <td>1006040</td>\n",
       "      <td>1653299</td>\n",
       "    </tr>\n",
       "  </tbody>\n",
       "</table>\n",
       "<p>5891 rows × 2 columns</p>\n",
       "</div>"
      ],
      "text/plain": [
       "      User_ID  Purchase\n",
       "0     1000001    334093\n",
       "1     1000002    810472\n",
       "2     1000003    341635\n",
       "3     1000004    206468\n",
       "4     1000005    821001\n",
       "...       ...       ...\n",
       "5886  1006036   4116058\n",
       "5887  1006037   1119538\n",
       "5888  1006038     90034\n",
       "5889  1006039    590319\n",
       "5890  1006040   1653299\n",
       "\n",
       "[5891 rows x 2 columns]"
      ]
     },
     "execution_count": 289,
     "metadata": {},
     "output_type": "execute_result"
    }
   ],
   "source": [
    "df2"
   ]
  },
  {
   "cell_type": "code",
   "execution_count": 290,
   "id": "fbe3fe9d",
   "metadata": {},
   "outputs": [],
   "source": [
    "df2=df2.merge(df1, on='User_ID', how='inner')"
   ]
  },
  {
   "cell_type": "code",
   "execution_count": 291,
   "id": "1eeb8490",
   "metadata": {},
   "outputs": [
    {
     "data": {
      "text/html": [
       "<div>\n",
       "<style scoped>\n",
       "    .dataframe tbody tr th:only-of-type {\n",
       "        vertical-align: middle;\n",
       "    }\n",
       "\n",
       "    .dataframe tbody tr th {\n",
       "        vertical-align: top;\n",
       "    }\n",
       "\n",
       "    .dataframe thead th {\n",
       "        text-align: right;\n",
       "    }\n",
       "</style>\n",
       "<table border=\"1\" class=\"dataframe\">\n",
       "  <thead>\n",
       "    <tr style=\"text-align: right;\">\n",
       "      <th></th>\n",
       "      <th>User_ID</th>\n",
       "      <th>Purchase_x</th>\n",
       "      <th>Gender</th>\n",
       "      <th>Age</th>\n",
       "      <th>Occupation</th>\n",
       "      <th>City_Category</th>\n",
       "      <th>Stay_In_Current_City_Years</th>\n",
       "      <th>Marital_Status</th>\n",
       "      <th>Purchase_y</th>\n",
       "    </tr>\n",
       "  </thead>\n",
       "  <tbody>\n",
       "    <tr>\n",
       "      <th>0</th>\n",
       "      <td>1000001</td>\n",
       "      <td>334093</td>\n",
       "      <td>F</td>\n",
       "      <td>0-17</td>\n",
       "      <td>10</td>\n",
       "      <td>A</td>\n",
       "      <td>2</td>\n",
       "      <td>0</td>\n",
       "      <td>8370</td>\n",
       "    </tr>\n",
       "    <tr>\n",
       "      <th>1</th>\n",
       "      <td>1000001</td>\n",
       "      <td>334093</td>\n",
       "      <td>F</td>\n",
       "      <td>0-17</td>\n",
       "      <td>10</td>\n",
       "      <td>A</td>\n",
       "      <td>2</td>\n",
       "      <td>0</td>\n",
       "      <td>15200</td>\n",
       "    </tr>\n",
       "    <tr>\n",
       "      <th>2</th>\n",
       "      <td>1000001</td>\n",
       "      <td>334093</td>\n",
       "      <td>F</td>\n",
       "      <td>0-17</td>\n",
       "      <td>10</td>\n",
       "      <td>A</td>\n",
       "      <td>2</td>\n",
       "      <td>0</td>\n",
       "      <td>1422</td>\n",
       "    </tr>\n",
       "    <tr>\n",
       "      <th>3</th>\n",
       "      <td>1000001</td>\n",
       "      <td>334093</td>\n",
       "      <td>F</td>\n",
       "      <td>0-17</td>\n",
       "      <td>10</td>\n",
       "      <td>A</td>\n",
       "      <td>2</td>\n",
       "      <td>0</td>\n",
       "      <td>1057</td>\n",
       "    </tr>\n",
       "    <tr>\n",
       "      <th>4</th>\n",
       "      <td>1000001</td>\n",
       "      <td>334093</td>\n",
       "      <td>F</td>\n",
       "      <td>0-17</td>\n",
       "      <td>10</td>\n",
       "      <td>A</td>\n",
       "      <td>2</td>\n",
       "      <td>0</td>\n",
       "      <td>12842</td>\n",
       "    </tr>\n",
       "    <tr>\n",
       "      <th>...</th>\n",
       "      <td>...</td>\n",
       "      <td>...</td>\n",
       "      <td>...</td>\n",
       "      <td>...</td>\n",
       "      <td>...</td>\n",
       "      <td>...</td>\n",
       "      <td>...</td>\n",
       "      <td>...</td>\n",
       "      <td>...</td>\n",
       "    </tr>\n",
       "    <tr>\n",
       "      <th>550063</th>\n",
       "      <td>1006040</td>\n",
       "      <td>1653299</td>\n",
       "      <td>M</td>\n",
       "      <td>26-35</td>\n",
       "      <td>6</td>\n",
       "      <td>B</td>\n",
       "      <td>2</td>\n",
       "      <td>0</td>\n",
       "      <td>9855</td>\n",
       "    </tr>\n",
       "    <tr>\n",
       "      <th>550064</th>\n",
       "      <td>1006040</td>\n",
       "      <td>1653299</td>\n",
       "      <td>M</td>\n",
       "      <td>26-35</td>\n",
       "      <td>6</td>\n",
       "      <td>B</td>\n",
       "      <td>2</td>\n",
       "      <td>0</td>\n",
       "      <td>1962</td>\n",
       "    </tr>\n",
       "    <tr>\n",
       "      <th>550065</th>\n",
       "      <td>1006040</td>\n",
       "      <td>1653299</td>\n",
       "      <td>M</td>\n",
       "      <td>26-35</td>\n",
       "      <td>6</td>\n",
       "      <td>B</td>\n",
       "      <td>2</td>\n",
       "      <td>0</td>\n",
       "      <td>7852</td>\n",
       "    </tr>\n",
       "    <tr>\n",
       "      <th>550066</th>\n",
       "      <td>1006040</td>\n",
       "      <td>1653299</td>\n",
       "      <td>M</td>\n",
       "      <td>26-35</td>\n",
       "      <td>6</td>\n",
       "      <td>B</td>\n",
       "      <td>2</td>\n",
       "      <td>0</td>\n",
       "      <td>7159</td>\n",
       "    </tr>\n",
       "    <tr>\n",
       "      <th>550067</th>\n",
       "      <td>1006040</td>\n",
       "      <td>1653299</td>\n",
       "      <td>M</td>\n",
       "      <td>26-35</td>\n",
       "      <td>6</td>\n",
       "      <td>B</td>\n",
       "      <td>2</td>\n",
       "      <td>0</td>\n",
       "      <td>11640</td>\n",
       "    </tr>\n",
       "  </tbody>\n",
       "</table>\n",
       "<p>550068 rows × 9 columns</p>\n",
       "</div>"
      ],
      "text/plain": [
       "        User_ID  Purchase_x Gender    Age  Occupation City_Category  \\\n",
       "0       1000001      334093      F   0-17          10             A   \n",
       "1       1000001      334093      F   0-17          10             A   \n",
       "2       1000001      334093      F   0-17          10             A   \n",
       "3       1000001      334093      F   0-17          10             A   \n",
       "4       1000001      334093      F   0-17          10             A   \n",
       "...         ...         ...    ...    ...         ...           ...   \n",
       "550063  1006040     1653299      M  26-35           6             B   \n",
       "550064  1006040     1653299      M  26-35           6             B   \n",
       "550065  1006040     1653299      M  26-35           6             B   \n",
       "550066  1006040     1653299      M  26-35           6             B   \n",
       "550067  1006040     1653299      M  26-35           6             B   \n",
       "\n",
       "       Stay_In_Current_City_Years  Marital_Status  Purchase_y  \n",
       "0                               2               0        8370  \n",
       "1                               2               0       15200  \n",
       "2                               2               0        1422  \n",
       "3                               2               0        1057  \n",
       "4                               2               0       12842  \n",
       "...                           ...             ...         ...  \n",
       "550063                          2               0        9855  \n",
       "550064                          2               0        1962  \n",
       "550065                          2               0        7852  \n",
       "550066                          2               0        7159  \n",
       "550067                          2               0       11640  \n",
       "\n",
       "[550068 rows x 9 columns]"
      ]
     },
     "execution_count": 291,
     "metadata": {},
     "output_type": "execute_result"
    }
   ],
   "source": [
    "df2"
   ]
  },
  {
   "cell_type": "markdown",
   "id": "f01b3752",
   "metadata": {},
   "source": [
    "#### Purchase_y is dropped off as it makes no meaning; Purchase_x is the total purchase amount of each user"
   ]
  },
  {
   "cell_type": "code",
   "execution_count": 293,
   "id": "56f0438c",
   "metadata": {},
   "outputs": [],
   "source": [
    "df2=df2.drop(columns=['Purchase_y'])"
   ]
  },
  {
   "cell_type": "code",
   "execution_count": 294,
   "id": "78dc77b9",
   "metadata": {},
   "outputs": [
    {
     "data": {
      "text/html": [
       "<div>\n",
       "<style scoped>\n",
       "    .dataframe tbody tr th:only-of-type {\n",
       "        vertical-align: middle;\n",
       "    }\n",
       "\n",
       "    .dataframe tbody tr th {\n",
       "        vertical-align: top;\n",
       "    }\n",
       "\n",
       "    .dataframe thead th {\n",
       "        text-align: right;\n",
       "    }\n",
       "</style>\n",
       "<table border=\"1\" class=\"dataframe\">\n",
       "  <thead>\n",
       "    <tr style=\"text-align: right;\">\n",
       "      <th></th>\n",
       "      <th>User_ID</th>\n",
       "      <th>Purchase_x</th>\n",
       "      <th>Gender</th>\n",
       "      <th>Age</th>\n",
       "      <th>Occupation</th>\n",
       "      <th>City_Category</th>\n",
       "      <th>Stay_In_Current_City_Years</th>\n",
       "      <th>Marital_Status</th>\n",
       "    </tr>\n",
       "  </thead>\n",
       "  <tbody>\n",
       "    <tr>\n",
       "      <th>0</th>\n",
       "      <td>1000001</td>\n",
       "      <td>334093</td>\n",
       "      <td>F</td>\n",
       "      <td>0-17</td>\n",
       "      <td>10</td>\n",
       "      <td>A</td>\n",
       "      <td>2</td>\n",
       "      <td>0</td>\n",
       "    </tr>\n",
       "    <tr>\n",
       "      <th>1</th>\n",
       "      <td>1000001</td>\n",
       "      <td>334093</td>\n",
       "      <td>F</td>\n",
       "      <td>0-17</td>\n",
       "      <td>10</td>\n",
       "      <td>A</td>\n",
       "      <td>2</td>\n",
       "      <td>0</td>\n",
       "    </tr>\n",
       "    <tr>\n",
       "      <th>2</th>\n",
       "      <td>1000001</td>\n",
       "      <td>334093</td>\n",
       "      <td>F</td>\n",
       "      <td>0-17</td>\n",
       "      <td>10</td>\n",
       "      <td>A</td>\n",
       "      <td>2</td>\n",
       "      <td>0</td>\n",
       "    </tr>\n",
       "    <tr>\n",
       "      <th>3</th>\n",
       "      <td>1000001</td>\n",
       "      <td>334093</td>\n",
       "      <td>F</td>\n",
       "      <td>0-17</td>\n",
       "      <td>10</td>\n",
       "      <td>A</td>\n",
       "      <td>2</td>\n",
       "      <td>0</td>\n",
       "    </tr>\n",
       "    <tr>\n",
       "      <th>4</th>\n",
       "      <td>1000001</td>\n",
       "      <td>334093</td>\n",
       "      <td>F</td>\n",
       "      <td>0-17</td>\n",
       "      <td>10</td>\n",
       "      <td>A</td>\n",
       "      <td>2</td>\n",
       "      <td>0</td>\n",
       "    </tr>\n",
       "    <tr>\n",
       "      <th>...</th>\n",
       "      <td>...</td>\n",
       "      <td>...</td>\n",
       "      <td>...</td>\n",
       "      <td>...</td>\n",
       "      <td>...</td>\n",
       "      <td>...</td>\n",
       "      <td>...</td>\n",
       "      <td>...</td>\n",
       "    </tr>\n",
       "    <tr>\n",
       "      <th>550063</th>\n",
       "      <td>1006040</td>\n",
       "      <td>1653299</td>\n",
       "      <td>M</td>\n",
       "      <td>26-35</td>\n",
       "      <td>6</td>\n",
       "      <td>B</td>\n",
       "      <td>2</td>\n",
       "      <td>0</td>\n",
       "    </tr>\n",
       "    <tr>\n",
       "      <th>550064</th>\n",
       "      <td>1006040</td>\n",
       "      <td>1653299</td>\n",
       "      <td>M</td>\n",
       "      <td>26-35</td>\n",
       "      <td>6</td>\n",
       "      <td>B</td>\n",
       "      <td>2</td>\n",
       "      <td>0</td>\n",
       "    </tr>\n",
       "    <tr>\n",
       "      <th>550065</th>\n",
       "      <td>1006040</td>\n",
       "      <td>1653299</td>\n",
       "      <td>M</td>\n",
       "      <td>26-35</td>\n",
       "      <td>6</td>\n",
       "      <td>B</td>\n",
       "      <td>2</td>\n",
       "      <td>0</td>\n",
       "    </tr>\n",
       "    <tr>\n",
       "      <th>550066</th>\n",
       "      <td>1006040</td>\n",
       "      <td>1653299</td>\n",
       "      <td>M</td>\n",
       "      <td>26-35</td>\n",
       "      <td>6</td>\n",
       "      <td>B</td>\n",
       "      <td>2</td>\n",
       "      <td>0</td>\n",
       "    </tr>\n",
       "    <tr>\n",
       "      <th>550067</th>\n",
       "      <td>1006040</td>\n",
       "      <td>1653299</td>\n",
       "      <td>M</td>\n",
       "      <td>26-35</td>\n",
       "      <td>6</td>\n",
       "      <td>B</td>\n",
       "      <td>2</td>\n",
       "      <td>0</td>\n",
       "    </tr>\n",
       "  </tbody>\n",
       "</table>\n",
       "<p>550068 rows × 8 columns</p>\n",
       "</div>"
      ],
      "text/plain": [
       "        User_ID  Purchase_x Gender    Age  Occupation City_Category  \\\n",
       "0       1000001      334093      F   0-17          10             A   \n",
       "1       1000001      334093      F   0-17          10             A   \n",
       "2       1000001      334093      F   0-17          10             A   \n",
       "3       1000001      334093      F   0-17          10             A   \n",
       "4       1000001      334093      F   0-17          10             A   \n",
       "...         ...         ...    ...    ...         ...           ...   \n",
       "550063  1006040     1653299      M  26-35           6             B   \n",
       "550064  1006040     1653299      M  26-35           6             B   \n",
       "550065  1006040     1653299      M  26-35           6             B   \n",
       "550066  1006040     1653299      M  26-35           6             B   \n",
       "550067  1006040     1653299      M  26-35           6             B   \n",
       "\n",
       "       Stay_In_Current_City_Years  Marital_Status  \n",
       "0                               2               0  \n",
       "1                               2               0  \n",
       "2                               2               0  \n",
       "3                               2               0  \n",
       "4                               2               0  \n",
       "...                           ...             ...  \n",
       "550063                          2               0  \n",
       "550064                          2               0  \n",
       "550065                          2               0  \n",
       "550066                          2               0  \n",
       "550067                          2               0  \n",
       "\n",
       "[550068 rows x 8 columns]"
      ]
     },
     "execution_count": 294,
     "metadata": {},
     "output_type": "execute_result"
    }
   ],
   "source": [
    "df2"
   ]
  },
  {
   "cell_type": "markdown",
   "id": "68806dde",
   "metadata": {},
   "source": [
    "#### Purchase_x is renamed as Purchase_Total"
   ]
  },
  {
   "cell_type": "code",
   "execution_count": 295,
   "id": "c7ee634f",
   "metadata": {},
   "outputs": [],
   "source": [
    "df2=df2.rename(columns={'Purchase_x':'Purchase_Total'})"
   ]
  },
  {
   "cell_type": "code",
   "execution_count": 296,
   "id": "a02c5a0d",
   "metadata": {},
   "outputs": [
    {
     "data": {
      "text/html": [
       "<div>\n",
       "<style scoped>\n",
       "    .dataframe tbody tr th:only-of-type {\n",
       "        vertical-align: middle;\n",
       "    }\n",
       "\n",
       "    .dataframe tbody tr th {\n",
       "        vertical-align: top;\n",
       "    }\n",
       "\n",
       "    .dataframe thead th {\n",
       "        text-align: right;\n",
       "    }\n",
       "</style>\n",
       "<table border=\"1\" class=\"dataframe\">\n",
       "  <thead>\n",
       "    <tr style=\"text-align: right;\">\n",
       "      <th></th>\n",
       "      <th>User_ID</th>\n",
       "      <th>Purchase_Total</th>\n",
       "      <th>Gender</th>\n",
       "      <th>Age</th>\n",
       "      <th>Occupation</th>\n",
       "      <th>City_Category</th>\n",
       "      <th>Stay_In_Current_City_Years</th>\n",
       "      <th>Marital_Status</th>\n",
       "    </tr>\n",
       "  </thead>\n",
       "  <tbody>\n",
       "    <tr>\n",
       "      <th>0</th>\n",
       "      <td>1000001</td>\n",
       "      <td>334093</td>\n",
       "      <td>F</td>\n",
       "      <td>0-17</td>\n",
       "      <td>10</td>\n",
       "      <td>A</td>\n",
       "      <td>2</td>\n",
       "      <td>0</td>\n",
       "    </tr>\n",
       "    <tr>\n",
       "      <th>1</th>\n",
       "      <td>1000001</td>\n",
       "      <td>334093</td>\n",
       "      <td>F</td>\n",
       "      <td>0-17</td>\n",
       "      <td>10</td>\n",
       "      <td>A</td>\n",
       "      <td>2</td>\n",
       "      <td>0</td>\n",
       "    </tr>\n",
       "    <tr>\n",
       "      <th>2</th>\n",
       "      <td>1000001</td>\n",
       "      <td>334093</td>\n",
       "      <td>F</td>\n",
       "      <td>0-17</td>\n",
       "      <td>10</td>\n",
       "      <td>A</td>\n",
       "      <td>2</td>\n",
       "      <td>0</td>\n",
       "    </tr>\n",
       "    <tr>\n",
       "      <th>3</th>\n",
       "      <td>1000001</td>\n",
       "      <td>334093</td>\n",
       "      <td>F</td>\n",
       "      <td>0-17</td>\n",
       "      <td>10</td>\n",
       "      <td>A</td>\n",
       "      <td>2</td>\n",
       "      <td>0</td>\n",
       "    </tr>\n",
       "    <tr>\n",
       "      <th>4</th>\n",
       "      <td>1000001</td>\n",
       "      <td>334093</td>\n",
       "      <td>F</td>\n",
       "      <td>0-17</td>\n",
       "      <td>10</td>\n",
       "      <td>A</td>\n",
       "      <td>2</td>\n",
       "      <td>0</td>\n",
       "    </tr>\n",
       "    <tr>\n",
       "      <th>...</th>\n",
       "      <td>...</td>\n",
       "      <td>...</td>\n",
       "      <td>...</td>\n",
       "      <td>...</td>\n",
       "      <td>...</td>\n",
       "      <td>...</td>\n",
       "      <td>...</td>\n",
       "      <td>...</td>\n",
       "    </tr>\n",
       "    <tr>\n",
       "      <th>550063</th>\n",
       "      <td>1006040</td>\n",
       "      <td>1653299</td>\n",
       "      <td>M</td>\n",
       "      <td>26-35</td>\n",
       "      <td>6</td>\n",
       "      <td>B</td>\n",
       "      <td>2</td>\n",
       "      <td>0</td>\n",
       "    </tr>\n",
       "    <tr>\n",
       "      <th>550064</th>\n",
       "      <td>1006040</td>\n",
       "      <td>1653299</td>\n",
       "      <td>M</td>\n",
       "      <td>26-35</td>\n",
       "      <td>6</td>\n",
       "      <td>B</td>\n",
       "      <td>2</td>\n",
       "      <td>0</td>\n",
       "    </tr>\n",
       "    <tr>\n",
       "      <th>550065</th>\n",
       "      <td>1006040</td>\n",
       "      <td>1653299</td>\n",
       "      <td>M</td>\n",
       "      <td>26-35</td>\n",
       "      <td>6</td>\n",
       "      <td>B</td>\n",
       "      <td>2</td>\n",
       "      <td>0</td>\n",
       "    </tr>\n",
       "    <tr>\n",
       "      <th>550066</th>\n",
       "      <td>1006040</td>\n",
       "      <td>1653299</td>\n",
       "      <td>M</td>\n",
       "      <td>26-35</td>\n",
       "      <td>6</td>\n",
       "      <td>B</td>\n",
       "      <td>2</td>\n",
       "      <td>0</td>\n",
       "    </tr>\n",
       "    <tr>\n",
       "      <th>550067</th>\n",
       "      <td>1006040</td>\n",
       "      <td>1653299</td>\n",
       "      <td>M</td>\n",
       "      <td>26-35</td>\n",
       "      <td>6</td>\n",
       "      <td>B</td>\n",
       "      <td>2</td>\n",
       "      <td>0</td>\n",
       "    </tr>\n",
       "  </tbody>\n",
       "</table>\n",
       "<p>550068 rows × 8 columns</p>\n",
       "</div>"
      ],
      "text/plain": [
       "        User_ID  Purchase_Total Gender    Age  Occupation City_Category  \\\n",
       "0       1000001          334093      F   0-17          10             A   \n",
       "1       1000001          334093      F   0-17          10             A   \n",
       "2       1000001          334093      F   0-17          10             A   \n",
       "3       1000001          334093      F   0-17          10             A   \n",
       "4       1000001          334093      F   0-17          10             A   \n",
       "...         ...             ...    ...    ...         ...           ...   \n",
       "550063  1006040         1653299      M  26-35           6             B   \n",
       "550064  1006040         1653299      M  26-35           6             B   \n",
       "550065  1006040         1653299      M  26-35           6             B   \n",
       "550066  1006040         1653299      M  26-35           6             B   \n",
       "550067  1006040         1653299      M  26-35           6             B   \n",
       "\n",
       "       Stay_In_Current_City_Years  Marital_Status  \n",
       "0                               2               0  \n",
       "1                               2               0  \n",
       "2                               2               0  \n",
       "3                               2               0  \n",
       "4                               2               0  \n",
       "...                           ...             ...  \n",
       "550063                          2               0  \n",
       "550064                          2               0  \n",
       "550065                          2               0  \n",
       "550066                          2               0  \n",
       "550067                          2               0  \n",
       "\n",
       "[550068 rows x 8 columns]"
      ]
     },
     "execution_count": 296,
     "metadata": {},
     "output_type": "execute_result"
    }
   ],
   "source": [
    "df2"
   ]
  },
  {
   "cell_type": "markdown",
   "id": "276894fb",
   "metadata": {},
   "source": [
    "#### duplicate records are dropped off keeping the first intact"
   ]
  },
  {
   "cell_type": "code",
   "execution_count": 297,
   "id": "ea255f66",
   "metadata": {},
   "outputs": [],
   "source": [
    "df2=df2.drop_duplicates(keep='first')"
   ]
  },
  {
   "cell_type": "code",
   "execution_count": 342,
   "id": "d18ffdca",
   "metadata": {},
   "outputs": [
    {
     "data": {
      "text/plain": [
       "(5891, 8)"
      ]
     },
     "execution_count": 342,
     "metadata": {},
     "output_type": "execute_result"
    }
   ],
   "source": [
    "df2.shape"
   ]
  },
  {
   "cell_type": "code",
   "execution_count": 298,
   "id": "05d74a4d",
   "metadata": {},
   "outputs": [
    {
     "name": "stdout",
     "output_type": "stream",
     "text": [
      "<class 'pandas.core.frame.DataFrame'>\n",
      "Index: 5891 entries, 0 to 549888\n",
      "Data columns (total 8 columns):\n",
      " #   Column                      Non-Null Count  Dtype \n",
      "---  ------                      --------------  ----- \n",
      " 0   User_ID                     5891 non-null   int64 \n",
      " 1   Purchase_Total              5891 non-null   int64 \n",
      " 2   Gender                      5891 non-null   object\n",
      " 3   Age                         5891 non-null   object\n",
      " 4   Occupation                  5891 non-null   int64 \n",
      " 5   City_Category               5891 non-null   object\n",
      " 6   Stay_In_Current_City_Years  5891 non-null   object\n",
      " 7   Marital_Status              5891 non-null   int64 \n",
      "dtypes: int64(4), object(4)\n",
      "memory usage: 414.2+ KB\n"
     ]
    }
   ],
   "source": [
    "df2.info()"
   ]
  },
  {
   "cell_type": "code",
   "execution_count": 299,
   "id": "ca5979a1",
   "metadata": {},
   "outputs": [
    {
     "data": {
      "text/html": [
       "<div>\n",
       "<style scoped>\n",
       "    .dataframe tbody tr th:only-of-type {\n",
       "        vertical-align: middle;\n",
       "    }\n",
       "\n",
       "    .dataframe tbody tr th {\n",
       "        vertical-align: top;\n",
       "    }\n",
       "\n",
       "    .dataframe thead th {\n",
       "        text-align: right;\n",
       "    }\n",
       "</style>\n",
       "<table border=\"1\" class=\"dataframe\">\n",
       "  <thead>\n",
       "    <tr style=\"text-align: right;\">\n",
       "      <th></th>\n",
       "      <th>User_ID</th>\n",
       "      <th>Purchase_Total</th>\n",
       "      <th>Occupation</th>\n",
       "      <th>Marital_Status</th>\n",
       "    </tr>\n",
       "  </thead>\n",
       "  <tbody>\n",
       "    <tr>\n",
       "      <th>count</th>\n",
       "      <td>5.891000e+03</td>\n",
       "      <td>5.891000e+03</td>\n",
       "      <td>5891.000000</td>\n",
       "      <td>5891.000000</td>\n",
       "    </tr>\n",
       "    <tr>\n",
       "      <th>mean</th>\n",
       "      <td>1.003025e+06</td>\n",
       "      <td>8.650166e+05</td>\n",
       "      <td>8.153285</td>\n",
       "      <td>0.419963</td>\n",
       "    </tr>\n",
       "    <tr>\n",
       "      <th>std</th>\n",
       "      <td>1.743379e+03</td>\n",
       "      <td>9.436445e+05</td>\n",
       "      <td>6.323140</td>\n",
       "      <td>0.493594</td>\n",
       "    </tr>\n",
       "    <tr>\n",
       "      <th>min</th>\n",
       "      <td>1.000001e+06</td>\n",
       "      <td>4.668100e+04</td>\n",
       "      <td>0.000000</td>\n",
       "      <td>0.000000</td>\n",
       "    </tr>\n",
       "    <tr>\n",
       "      <th>25%</th>\n",
       "      <td>1.001518e+06</td>\n",
       "      <td>2.376780e+05</td>\n",
       "      <td>3.000000</td>\n",
       "      <td>0.000000</td>\n",
       "    </tr>\n",
       "    <tr>\n",
       "      <th>50%</th>\n",
       "      <td>1.003026e+06</td>\n",
       "      <td>5.212130e+05</td>\n",
       "      <td>7.000000</td>\n",
       "      <td>0.000000</td>\n",
       "    </tr>\n",
       "    <tr>\n",
       "      <th>75%</th>\n",
       "      <td>1.004532e+06</td>\n",
       "      <td>1.119250e+06</td>\n",
       "      <td>14.000000</td>\n",
       "      <td>1.000000</td>\n",
       "    </tr>\n",
       "    <tr>\n",
       "      <th>max</th>\n",
       "      <td>1.006040e+06</td>\n",
       "      <td>1.053691e+07</td>\n",
       "      <td>20.000000</td>\n",
       "      <td>1.000000</td>\n",
       "    </tr>\n",
       "  </tbody>\n",
       "</table>\n",
       "</div>"
      ],
      "text/plain": [
       "            User_ID  Purchase_Total   Occupation  Marital_Status\n",
       "count  5.891000e+03    5.891000e+03  5891.000000     5891.000000\n",
       "mean   1.003025e+06    8.650166e+05     8.153285        0.419963\n",
       "std    1.743379e+03    9.436445e+05     6.323140        0.493594\n",
       "min    1.000001e+06    4.668100e+04     0.000000        0.000000\n",
       "25%    1.001518e+06    2.376780e+05     3.000000        0.000000\n",
       "50%    1.003026e+06    5.212130e+05     7.000000        0.000000\n",
       "75%    1.004532e+06    1.119250e+06    14.000000        1.000000\n",
       "max    1.006040e+06    1.053691e+07    20.000000        1.000000"
      ]
     },
     "execution_count": 299,
     "metadata": {},
     "output_type": "execute_result"
    }
   ],
   "source": [
    "df2.describe()"
   ]
  },
  {
   "cell_type": "code",
   "execution_count": 300,
   "id": "2fbd0051",
   "metadata": {},
   "outputs": [],
   "source": [
    "gender_data=df2['Gender'].value_counts()"
   ]
  },
  {
   "cell_type": "code",
   "execution_count": 301,
   "id": "cbcf4e6a",
   "metadata": {},
   "outputs": [
    {
     "data": {
      "text/plain": [
       "Gender\n",
       "M    4225\n",
       "F    1666\n",
       "Name: count, dtype: int64"
      ]
     },
     "execution_count": 301,
     "metadata": {},
     "output_type": "execute_result"
    }
   ],
   "source": [
    "gender_data \n"
   ]
  },
  {
   "cell_type": "code",
   "execution_count": 507,
   "id": "fcb2c7cf",
   "metadata": {},
   "outputs": [
    {
     "data": {
      "text/plain": [
       "5891"
      ]
     },
     "execution_count": 507,
     "metadata": {},
     "output_type": "execute_result"
    }
   ],
   "source": [
    "4225+1666"
   ]
  },
  {
   "cell_type": "markdown",
   "id": "0ff2dd68",
   "metadata": {},
   "source": [
    "####  count of customers genderwise (Total number of customers = 5891; Male=4225, Female=1666); 5891 customers have done \n",
    "#### 0.55 million transactions"
   ]
  },
  {
   "cell_type": "code",
   "execution_count": 372,
   "id": "2f77574f",
   "metadata": {},
   "outputs": [
    {
     "data": {
      "text/plain": [
       "Gender\n",
       "F    712024.394958\n",
       "M    925344.402367\n",
       "Name: Purchase_Total, dtype: float64"
      ]
     },
     "execution_count": 372,
     "metadata": {},
     "output_type": "execute_result"
    }
   ],
   "source": [
    "df2.groupby(['Gender'])['Purchase_Total'].mean()"
   ]
  },
  {
   "cell_type": "code",
   "execution_count": null,
   "id": "64753523",
   "metadata": {},
   "outputs": [],
   "source": []
  },
  {
   "cell_type": "markdown",
   "id": "484a7f1b",
   "metadata": {},
   "source": [
    "### population_mean_Purchase_Total\n",
    "#### male    = 925344.402367\n",
    "#### female = 712024.394958"
   ]
  },
  {
   "cell_type": "code",
   "execution_count": 393,
   "id": "bbe29f47",
   "metadata": {},
   "outputs": [],
   "source": [
    "mean_Purchase_Total_Male_population=925344.402367"
   ]
  },
  {
   "cell_type": "code",
   "execution_count": 394,
   "id": "0e18732f",
   "metadata": {},
   "outputs": [],
   "source": [
    "mean_Purchase_Total_Female_population=712024.394958"
   ]
  },
  {
   "cell_type": "code",
   "execution_count": null,
   "id": "06db9884",
   "metadata": {},
   "outputs": [],
   "source": []
  },
  {
   "cell_type": "markdown",
   "id": "c06107f0",
   "metadata": {},
   "source": [
    "####  Product_ID, Gender, Age, Occupation, City_Category, Marital_Status, Product_Category are categorical variables"
   ]
  },
  {
   "cell_type": "code",
   "execution_count": 302,
   "id": "4884f18f",
   "metadata": {},
   "outputs": [
    {
     "name": "stdout",
     "output_type": "stream",
     "text": [
      "<class 'pandas.core.frame.DataFrame'>\n",
      "Index: 5891 entries, 0 to 549888\n",
      "Data columns (total 8 columns):\n",
      " #   Column                      Non-Null Count  Dtype \n",
      "---  ------                      --------------  ----- \n",
      " 0   User_ID                     5891 non-null   int64 \n",
      " 1   Purchase_Total              5891 non-null   int64 \n",
      " 2   Gender                      5891 non-null   object\n",
      " 3   Age                         5891 non-null   object\n",
      " 4   Occupation                  5891 non-null   int64 \n",
      " 5   City_Category               5891 non-null   object\n",
      " 6   Stay_In_Current_City_Years  5891 non-null   object\n",
      " 7   Marital_Status              5891 non-null   int64 \n",
      "dtypes: int64(4), object(4)\n",
      "memory usage: 414.2+ KB\n"
     ]
    }
   ],
   "source": [
    "df2.info()"
   ]
  },
  {
   "cell_type": "code",
   "execution_count": 303,
   "id": "2f85343b",
   "metadata": {},
   "outputs": [
    {
     "data": {
      "text/html": [
       "<div>\n",
       "<style scoped>\n",
       "    .dataframe tbody tr th:only-of-type {\n",
       "        vertical-align: middle;\n",
       "    }\n",
       "\n",
       "    .dataframe tbody tr th {\n",
       "        vertical-align: top;\n",
       "    }\n",
       "\n",
       "    .dataframe thead th {\n",
       "        text-align: right;\n",
       "    }\n",
       "</style>\n",
       "<table border=\"1\" class=\"dataframe\">\n",
       "  <thead>\n",
       "    <tr style=\"text-align: right;\">\n",
       "      <th></th>\n",
       "      <th>User_ID</th>\n",
       "      <th>Purchase_Total</th>\n",
       "      <th>Occupation</th>\n",
       "      <th>Marital_Status</th>\n",
       "    </tr>\n",
       "  </thead>\n",
       "  <tbody>\n",
       "    <tr>\n",
       "      <th>count</th>\n",
       "      <td>5.891000e+03</td>\n",
       "      <td>5.891000e+03</td>\n",
       "      <td>5891.000000</td>\n",
       "      <td>5891.000000</td>\n",
       "    </tr>\n",
       "    <tr>\n",
       "      <th>mean</th>\n",
       "      <td>1.003025e+06</td>\n",
       "      <td>8.650166e+05</td>\n",
       "      <td>8.153285</td>\n",
       "      <td>0.419963</td>\n",
       "    </tr>\n",
       "    <tr>\n",
       "      <th>std</th>\n",
       "      <td>1.743379e+03</td>\n",
       "      <td>9.436445e+05</td>\n",
       "      <td>6.323140</td>\n",
       "      <td>0.493594</td>\n",
       "    </tr>\n",
       "    <tr>\n",
       "      <th>min</th>\n",
       "      <td>1.000001e+06</td>\n",
       "      <td>4.668100e+04</td>\n",
       "      <td>0.000000</td>\n",
       "      <td>0.000000</td>\n",
       "    </tr>\n",
       "    <tr>\n",
       "      <th>25%</th>\n",
       "      <td>1.001518e+06</td>\n",
       "      <td>2.376780e+05</td>\n",
       "      <td>3.000000</td>\n",
       "      <td>0.000000</td>\n",
       "    </tr>\n",
       "    <tr>\n",
       "      <th>50%</th>\n",
       "      <td>1.003026e+06</td>\n",
       "      <td>5.212130e+05</td>\n",
       "      <td>7.000000</td>\n",
       "      <td>0.000000</td>\n",
       "    </tr>\n",
       "    <tr>\n",
       "      <th>75%</th>\n",
       "      <td>1.004532e+06</td>\n",
       "      <td>1.119250e+06</td>\n",
       "      <td>14.000000</td>\n",
       "      <td>1.000000</td>\n",
       "    </tr>\n",
       "    <tr>\n",
       "      <th>max</th>\n",
       "      <td>1.006040e+06</td>\n",
       "      <td>1.053691e+07</td>\n",
       "      <td>20.000000</td>\n",
       "      <td>1.000000</td>\n",
       "    </tr>\n",
       "  </tbody>\n",
       "</table>\n",
       "</div>"
      ],
      "text/plain": [
       "            User_ID  Purchase_Total   Occupation  Marital_Status\n",
       "count  5.891000e+03    5.891000e+03  5891.000000     5891.000000\n",
       "mean   1.003025e+06    8.650166e+05     8.153285        0.419963\n",
       "std    1.743379e+03    9.436445e+05     6.323140        0.493594\n",
       "min    1.000001e+06    4.668100e+04     0.000000        0.000000\n",
       "25%    1.001518e+06    2.376780e+05     3.000000        0.000000\n",
       "50%    1.003026e+06    5.212130e+05     7.000000        0.000000\n",
       "75%    1.004532e+06    1.119250e+06    14.000000        1.000000\n",
       "max    1.006040e+06    1.053691e+07    20.000000        1.000000"
      ]
     },
     "execution_count": 303,
     "metadata": {},
     "output_type": "execute_result"
    }
   ],
   "source": [
    "df2.describe()"
   ]
  },
  {
   "cell_type": "code",
   "execution_count": 304,
   "id": "3566dd1b",
   "metadata": {},
   "outputs": [
    {
     "data": {
      "text/html": [
       "<div>\n",
       "<style scoped>\n",
       "    .dataframe tbody tr th:only-of-type {\n",
       "        vertical-align: middle;\n",
       "    }\n",
       "\n",
       "    .dataframe tbody tr th {\n",
       "        vertical-align: top;\n",
       "    }\n",
       "\n",
       "    .dataframe thead th {\n",
       "        text-align: right;\n",
       "    }\n",
       "</style>\n",
       "<table border=\"1\" class=\"dataframe\">\n",
       "  <thead>\n",
       "    <tr style=\"text-align: right;\">\n",
       "      <th></th>\n",
       "      <th>Gender</th>\n",
       "      <th>Age</th>\n",
       "      <th>City_Category</th>\n",
       "      <th>Stay_In_Current_City_Years</th>\n",
       "    </tr>\n",
       "  </thead>\n",
       "  <tbody>\n",
       "    <tr>\n",
       "      <th>count</th>\n",
       "      <td>5891</td>\n",
       "      <td>5891</td>\n",
       "      <td>5891</td>\n",
       "      <td>5891</td>\n",
       "    </tr>\n",
       "    <tr>\n",
       "      <th>unique</th>\n",
       "      <td>2</td>\n",
       "      <td>7</td>\n",
       "      <td>3</td>\n",
       "      <td>5</td>\n",
       "    </tr>\n",
       "    <tr>\n",
       "      <th>top</th>\n",
       "      <td>M</td>\n",
       "      <td>26-35</td>\n",
       "      <td>C</td>\n",
       "      <td>1</td>\n",
       "    </tr>\n",
       "    <tr>\n",
       "      <th>freq</th>\n",
       "      <td>4225</td>\n",
       "      <td>2053</td>\n",
       "      <td>3139</td>\n",
       "      <td>2086</td>\n",
       "    </tr>\n",
       "  </tbody>\n",
       "</table>\n",
       "</div>"
      ],
      "text/plain": [
       "       Gender    Age City_Category Stay_In_Current_City_Years\n",
       "count    5891   5891          5891                       5891\n",
       "unique      2      7             3                          5\n",
       "top         M  26-35             C                          1\n",
       "freq     4225   2053          3139                       2086"
      ]
     },
     "execution_count": 304,
     "metadata": {},
     "output_type": "execute_result"
    }
   ],
   "source": [
    "df2.describe(include='object')"
   ]
  },
  {
   "cell_type": "code",
   "execution_count": 305,
   "id": "444fbdf6",
   "metadata": {},
   "outputs": [
    {
     "data": {
      "text/plain": [
       "User_ID                       0\n",
       "Purchase_Total                0\n",
       "Gender                        0\n",
       "Age                           0\n",
       "Occupation                    0\n",
       "City_Category                 0\n",
       "Stay_In_Current_City_Years    0\n",
       "Marital_Status                0\n",
       "dtype: int64"
      ]
     },
     "execution_count": 305,
     "metadata": {},
     "output_type": "execute_result"
    }
   ],
   "source": [
    "df2.isna().sum()"
   ]
  },
  {
   "cell_type": "markdown",
   "id": "cb52e967",
   "metadata": {},
   "source": [
    "#### No null / NAs in the dataset."
   ]
  },
  {
   "cell_type": "code",
   "execution_count": 306,
   "id": "55e27e12",
   "metadata": {},
   "outputs": [],
   "source": [
    "age_data=df2['Age'].value_counts()"
   ]
  },
  {
   "cell_type": "code",
   "execution_count": 307,
   "id": "a519d328",
   "metadata": {},
   "outputs": [
    {
     "data": {
      "text/plain": [
       "Age\n",
       "26-35    2053\n",
       "36-45    1167\n",
       "18-25    1069\n",
       "46-50     531\n",
       "51-55     481\n",
       "55+       372\n",
       "0-17      218\n",
       "Name: count, dtype: int64"
      ]
     },
     "execution_count": 307,
     "metadata": {},
     "output_type": "execute_result"
    }
   ],
   "source": [
    "age_data"
   ]
  },
  {
   "cell_type": "code",
   "execution_count": 343,
   "id": "62c9b915",
   "metadata": {},
   "outputs": [
    {
     "data": {
      "image/png": "[encoded data removed]",
      "text/plain": [
       "<Figure size 1000x600 with 1 Axes>"
      ]
     },
     "metadata": {},
     "output_type": "display_data"
    }
   ],
   "source": [
    "plt.figure(figsize=(10,6))\n",
    "plt.pie(age_data,labels=age_data.index,autopct='%.0f%%')\n",
    "plt.show()"
   ]
  },
  {
   "cell_type": "code",
   "execution_count": 309,
   "id": "5b65c170",
   "metadata": {},
   "outputs": [],
   "source": [
    "occupation_data=df2['Occupation'].value_counts()"
   ]
  },
  {
   "cell_type": "code",
   "execution_count": 310,
   "id": "2507eb95",
   "metadata": {},
   "outputs": [
    {
     "data": {
      "text/plain": [
       "Occupation\n",
       "4     740\n",
       "0     688\n",
       "7     669\n",
       "1     517\n",
       "17    491\n",
       "12    376\n",
       "14    294\n",
       "20    273\n",
       "2     256\n",
       "16    235\n",
       "6     228\n",
       "10    192\n",
       "3     170\n",
       "15    140\n",
       "13    140\n",
       "11    128\n",
       "5     111\n",
       "9      88\n",
       "19     71\n",
       "18     67\n",
       "8      17\n",
       "Name: count, dtype: int64"
      ]
     },
     "execution_count": 310,
     "metadata": {},
     "output_type": "execute_result"
    }
   ],
   "source": [
    "occupation_data"
   ]
  },
  {
   "cell_type": "code",
   "execution_count": 345,
   "id": "c67e2929",
   "metadata": {},
   "outputs": [
    {
     "data": {
      "image/png": "[encoded data removed]",
      "text/plain": [
       "<Figure size 1200x800 with 1 Axes>"
      ]
     },
     "metadata": {},
     "output_type": "display_data"
    }
   ],
   "source": [
    "plt.figure(figsize=(12,8))\n",
    "plt.pie(occupation_data,labels=occupation_data.index,autopct='%.0f%%')\n",
    "plt.show()"
   ]
  },
  {
   "cell_type": "code",
   "execution_count": 312,
   "id": "d765f6c5",
   "metadata": {},
   "outputs": [],
   "source": [
    "city_data=df2['City_Category'].value_counts()"
   ]
  },
  {
   "cell_type": "code",
   "execution_count": 313,
   "id": "63017812",
   "metadata": {},
   "outputs": [
    {
     "data": {
      "text/plain": [
       "City_Category\n",
       "C    3139\n",
       "B    1707\n",
       "A    1045\n",
       "Name: count, dtype: int64"
      ]
     },
     "execution_count": 313,
     "metadata": {},
     "output_type": "execute_result"
    }
   ],
   "source": [
    "city_data"
   ]
  },
  {
   "cell_type": "code",
   "execution_count": 346,
   "id": "43ef06dd",
   "metadata": {},
   "outputs": [
    {
     "data": {
      "image/png": "[encoded data removed]",
      "text/plain": [
       "<Figure size 1000x600 with 1 Axes>"
      ]
     },
     "metadata": {},
     "output_type": "display_data"
    }
   ],
   "source": [
    "plt.figure(figsize=(10,6))\n",
    "plt.pie(city_data,labels=city_data.index,autopct='%.0f%%')\n",
    "plt.show()"
   ]
  },
  {
   "cell_type": "markdown",
   "id": "37014030",
   "metadata": {},
   "source": [
    "#### Majority of the users are staying in City_Category \"C\", followed by \"B\" and \"A\""
   ]
  },
  {
   "cell_type": "code",
   "execution_count": 347,
   "id": "d5649992",
   "metadata": {},
   "outputs": [],
   "source": [
    "stay_data=df2['Stay_In_Current_City_Years'].value_counts()"
   ]
  },
  {
   "cell_type": "markdown",
   "id": "56986acd",
   "metadata": {},
   "source": [
    "#### stay is considered as upto 1 year as 0; more than 1 year and less than 2 year as 1; more than 2 years and less than 3 years \n",
    "#### as 2; more than 3 years and less than 4 years as 3; more than 4 years as 4+ ( meaning 4 years or more)"
   ]
  },
  {
   "cell_type": "code",
   "execution_count": 348,
   "id": "d7d0d986",
   "metadata": {},
   "outputs": [
    {
     "data": {
      "text/plain": [
       "Stay_In_Current_City_Years\n",
       "1     2086\n",
       "2     1145\n",
       "3      979\n",
       "4+     909\n",
       "0      772\n",
       "Name: count, dtype: int64"
      ]
     },
     "execution_count": 348,
     "metadata": {},
     "output_type": "execute_result"
    }
   ],
   "source": [
    "stay_data"
   ]
  },
  {
   "cell_type": "code",
   "execution_count": 349,
   "id": "a6c89e7c",
   "metadata": {},
   "outputs": [
    {
     "data": {
      "image/png": "[encoded data removed]",
      "text/plain": [
       "<Figure size 1000x600 with 1 Axes>"
      ]
     },
     "metadata": {},
     "output_type": "display_data"
    }
   ],
   "source": [
    "plt.figure(figsize=(10,6))\n",
    "plt.pie(stay_data,labels=stay_data.index,autopct='%.0f%%')\n",
    "plt.show()"
   ]
  },
  {
   "cell_type": "markdown",
   "id": "f760a971",
   "metadata": {},
   "source": [
    "#### Looks like population is more mobile in nature rather than staying in one place. more than 65% of people have changed their city in less than 3 years"
   ]
  },
  {
   "cell_type": "code",
   "execution_count": 318,
   "id": "3b81ed02",
   "metadata": {},
   "outputs": [
    {
     "data": {
      "text/plain": [
       "<Axes: xlabel='Stay_In_Current_City_Years'>"
      ]
     },
     "execution_count": 318,
     "metadata": {},
     "output_type": "execute_result"
    },
    {
     "data": {
      "image/png": "[encoded data removed]",
      "text/plain": [
       "<Figure size 640x480 with 1 Axes>"
      ]
     },
     "metadata": {},
     "output_type": "display_data"
    }
   ],
   "source": [
    "sns.barplot(x=stay_data.index,y=stay_data.values)"
   ]
  },
  {
   "cell_type": "markdown",
   "id": "70286732",
   "metadata": {},
   "source": [
    "#### majority of the people changed the living city in a span of 1 to 2 years"
   ]
  },
  {
   "cell_type": "code",
   "execution_count": 319,
   "id": "12aaaf2f",
   "metadata": {},
   "outputs": [],
   "source": [
    "prod_cat_data=df['Product_Category'].value_counts()"
   ]
  },
  {
   "cell_type": "code",
   "execution_count": 320,
   "id": "6ae55bcc",
   "metadata": {},
   "outputs": [
    {
     "data": {
      "text/plain": [
       "Product_Category\n",
       "5     150933\n",
       "1     140378\n",
       "8     113925\n",
       "11     24287\n",
       "2      23864\n",
       "6      20466\n",
       "3      20213\n",
       "4      11753\n",
       "16      9828\n",
       "15      6290\n",
       "13      5549\n",
       "10      5125\n",
       "12      3947\n",
       "7       3721\n",
       "18      3125\n",
       "20      2550\n",
       "19      1603\n",
       "14      1523\n",
       "17       578\n",
       "9        410\n",
       "Name: count, dtype: int64"
      ]
     },
     "execution_count": 320,
     "metadata": {},
     "output_type": "execute_result"
    }
   ],
   "source": [
    "prod_cat_data"
   ]
  },
  {
   "cell_type": "code",
   "execution_count": 321,
   "id": "04b1c496",
   "metadata": {},
   "outputs": [
    {
     "data": {
      "image/png": "[encoded data removed]",
      "text/plain": [
       "<Figure size 1200x800 with 1 Axes>"
      ]
     },
     "metadata": {},
     "output_type": "display_data"
    }
   ],
   "source": [
    "plt.figure(figsize=(12,8))\n",
    "plt.pie(prod_cat_data,labels=prod_cat_data.index,autopct='%.0f%%')\n",
    "plt.show()"
   ]
  },
  {
   "cell_type": "markdown",
   "id": "e68389df",
   "metadata": {},
   "source": [
    "#### Product Category 5, 1 & 8 together contributing almost 75% of all product categories"
   ]
  },
  {
   "cell_type": "code",
   "execution_count": 322,
   "id": "3fe185f8",
   "metadata": {},
   "outputs": [],
   "source": [
    "gender_data=df2['Gender'].value_counts()"
   ]
  },
  {
   "cell_type": "code",
   "execution_count": 323,
   "id": "53eff305",
   "metadata": {},
   "outputs": [
    {
     "data": {
      "text/plain": [
       "Gender\n",
       "M    4225\n",
       "F    1666\n",
       "Name: count, dtype: int64"
      ]
     },
     "execution_count": 323,
     "metadata": {},
     "output_type": "execute_result"
    }
   ],
   "source": [
    "gender_data"
   ]
  },
  {
   "cell_type": "code",
   "execution_count": 324,
   "id": "246b6d10",
   "metadata": {},
   "outputs": [
    {
     "data": {
      "image/png": "[encoded data removed]",
      "text/plain": [
       "<Figure size 1000x600 with 1 Axes>"
      ]
     },
     "metadata": {},
     "output_type": "display_data"
    }
   ],
   "source": [
    "plt.figure(figsize=(10,6))\n",
    "plt.pie(gender_data,labels=gender_data.index,autopct='%.0f%%')\n",
    "plt.show()"
   ]
  },
  {
   "cell_type": "markdown",
   "id": "98fbf66e",
   "metadata": {},
   "source": [
    "#### 72% of the users are Male and 28% of users are female; this is looking contradictiory to the statement \"assume 50% male \n",
    "#### and 50% female\""
   ]
  },
  {
   "cell_type": "code",
   "execution_count": 325,
   "id": "a294071d",
   "metadata": {},
   "outputs": [
    {
     "data": {
      "text/plain": [
       "<Axes: xlabel='Gender', ylabel='Purchase_Total'>"
      ]
     },
     "execution_count": 325,
     "metadata": {},
     "output_type": "execute_result"
    },
    {
     "data": {
      "image/png": "[encoded data removed]",
      "text/plain": [
       "<Figure size 640x480 with 1 Axes>"
      ]
     },
     "metadata": {},
     "output_type": "display_data"
    }
   ],
   "source": [
    "sns.boxplot(data=df2,x='Gender', y='Purchase_Total',hue='City_Category')"
   ]
  },
  {
   "cell_type": "markdown",
   "id": "3d4ed04b",
   "metadata": {},
   "source": [
    "#### There are lot of outliers (wrt Purchase_Total); City category C has least variability where as \"A\" has most variability and \n",
    "#### also outliers. pattern is similar for both Male and Female users."
   ]
  },
  {
   "cell_type": "code",
   "execution_count": 531,
   "id": "ff097f5f",
   "metadata": {},
   "outputs": [
    {
     "data": {
      "text/plain": [
       "<Axes: xlabel='City_Category', ylabel='Purchase_Total'>"
      ]
     },
     "execution_count": 531,
     "metadata": {},
     "output_type": "execute_result"
    },
    {
     "data": {
      "image/png": "[encoded data removed]",
      "text/plain": [
       "<Figure size 640x480 with 1 Axes>"
      ]
     },
     "metadata": {},
     "output_type": "display_data"
    }
   ],
   "source": [
    "sns.boxplot(data=df2,x='City_Category', y='Purchase_Total')"
   ]
  },
  {
   "cell_type": "markdown",
   "id": "8a53fb2c",
   "metadata": {},
   "source": [
    "#### City Category A abd B generate more revenue as purchase_Total is significantly higher for these two city categories."
   ]
  },
  {
   "cell_type": "code",
   "execution_count": 326,
   "id": "5e81c28d",
   "metadata": {},
   "outputs": [],
   "source": [
    "sample_01=df2.sample(n=500, replace=True)"
   ]
  },
  {
   "cell_type": "code",
   "execution_count": 327,
   "id": "ad2c29da",
   "metadata": {},
   "outputs": [
    {
     "data": {
      "text/html": [
       "<div>\n",
       "<style scoped>\n",
       "    .dataframe tbody tr th:only-of-type {\n",
       "        vertical-align: middle;\n",
       "    }\n",
       "\n",
       "    .dataframe tbody tr th {\n",
       "        vertical-align: top;\n",
       "    }\n",
       "\n",
       "    .dataframe thead th {\n",
       "        text-align: right;\n",
       "    }\n",
       "</style>\n",
       "<table border=\"1\" class=\"dataframe\">\n",
       "  <thead>\n",
       "    <tr style=\"text-align: right;\">\n",
       "      <th></th>\n",
       "      <th>User_ID</th>\n",
       "      <th>Purchase_Total</th>\n",
       "      <th>Gender</th>\n",
       "      <th>Age</th>\n",
       "      <th>Occupation</th>\n",
       "      <th>City_Category</th>\n",
       "      <th>Stay_In_Current_City_Years</th>\n",
       "      <th>Marital_Status</th>\n",
       "    </tr>\n",
       "  </thead>\n",
       "  <tbody>\n",
       "    <tr>\n",
       "      <th>458276</th>\n",
       "      <td>1005015</td>\n",
       "      <td>3352326</td>\n",
       "      <td>M</td>\n",
       "      <td>36-45</td>\n",
       "      <td>6</td>\n",
       "      <td>B</td>\n",
       "      <td>2</td>\n",
       "      <td>1</td>\n",
       "    </tr>\n",
       "    <tr>\n",
       "      <th>420825</th>\n",
       "      <td>1004558</td>\n",
       "      <td>121039</td>\n",
       "      <td>M</td>\n",
       "      <td>36-45</td>\n",
       "      <td>14</td>\n",
       "      <td>C</td>\n",
       "      <td>1</td>\n",
       "      <td>0</td>\n",
       "    </tr>\n",
       "    <tr>\n",
       "      <th>322311</th>\n",
       "      <td>1003585</td>\n",
       "      <td>1194023</td>\n",
       "      <td>M</td>\n",
       "      <td>36-45</td>\n",
       "      <td>20</td>\n",
       "      <td>A</td>\n",
       "      <td>0</td>\n",
       "      <td>1</td>\n",
       "    </tr>\n",
       "    <tr>\n",
       "      <th>485779</th>\n",
       "      <td>1005339</td>\n",
       "      <td>814105</td>\n",
       "      <td>M</td>\n",
       "      <td>18-25</td>\n",
       "      <td>17</td>\n",
       "      <td>C</td>\n",
       "      <td>1</td>\n",
       "      <td>0</td>\n",
       "    </tr>\n",
       "    <tr>\n",
       "      <th>185926</th>\n",
       "      <td>1001997</td>\n",
       "      <td>214683</td>\n",
       "      <td>M</td>\n",
       "      <td>26-35</td>\n",
       "      <td>0</td>\n",
       "      <td>A</td>\n",
       "      <td>0</td>\n",
       "      <td>1</td>\n",
       "    </tr>\n",
       "    <tr>\n",
       "      <th>...</th>\n",
       "      <td>...</td>\n",
       "      <td>...</td>\n",
       "      <td>...</td>\n",
       "      <td>...</td>\n",
       "      <td>...</td>\n",
       "      <td>...</td>\n",
       "      <td>...</td>\n",
       "      <td>...</td>\n",
       "    </tr>\n",
       "    <tr>\n",
       "      <th>510534</th>\n",
       "      <td>1005615</td>\n",
       "      <td>1456353</td>\n",
       "      <td>M</td>\n",
       "      <td>36-45</td>\n",
       "      <td>7</td>\n",
       "      <td>C</td>\n",
       "      <td>4+</td>\n",
       "      <td>0</td>\n",
       "    </tr>\n",
       "    <tr>\n",
       "      <th>546035</th>\n",
       "      <td>1005999</td>\n",
       "      <td>330227</td>\n",
       "      <td>F</td>\n",
       "      <td>26-35</td>\n",
       "      <td>1</td>\n",
       "      <td>A</td>\n",
       "      <td>0</td>\n",
       "      <td>1</td>\n",
       "    </tr>\n",
       "    <tr>\n",
       "      <th>451642</th>\n",
       "      <td>1004942</td>\n",
       "      <td>1497459</td>\n",
       "      <td>M</td>\n",
       "      <td>46-50</td>\n",
       "      <td>12</td>\n",
       "      <td>B</td>\n",
       "      <td>3</td>\n",
       "      <td>1</td>\n",
       "    </tr>\n",
       "    <tr>\n",
       "      <th>464914</th>\n",
       "      <td>1005084</td>\n",
       "      <td>854906</td>\n",
       "      <td>M</td>\n",
       "      <td>18-25</td>\n",
       "      <td>4</td>\n",
       "      <td>B</td>\n",
       "      <td>1</td>\n",
       "      <td>0</td>\n",
       "    </tr>\n",
       "    <tr>\n",
       "      <th>530165</th>\n",
       "      <td>1005816</td>\n",
       "      <td>185356</td>\n",
       "      <td>M</td>\n",
       "      <td>26-35</td>\n",
       "      <td>0</td>\n",
       "      <td>C</td>\n",
       "      <td>4+</td>\n",
       "      <td>1</td>\n",
       "    </tr>\n",
       "  </tbody>\n",
       "</table>\n",
       "<p>500 rows × 8 columns</p>\n",
       "</div>"
      ],
      "text/plain": [
       "        User_ID  Purchase_Total Gender    Age  Occupation City_Category  \\\n",
       "458276  1005015         3352326      M  36-45           6             B   \n",
       "420825  1004558          121039      M  36-45          14             C   \n",
       "322311  1003585         1194023      M  36-45          20             A   \n",
       "485779  1005339          814105      M  18-25          17             C   \n",
       "185926  1001997          214683      M  26-35           0             A   \n",
       "...         ...             ...    ...    ...         ...           ...   \n",
       "510534  1005615         1456353      M  36-45           7             C   \n",
       "546035  1005999          330227      F  26-35           1             A   \n",
       "451642  1004942         1497459      M  46-50          12             B   \n",
       "464914  1005084          854906      M  18-25           4             B   \n",
       "530165  1005816          185356      M  26-35           0             C   \n",
       "\n",
       "       Stay_In_Current_City_Years  Marital_Status  \n",
       "458276                          2               1  \n",
       "420825                          1               0  \n",
       "322311                          0               1  \n",
       "485779                          1               0  \n",
       "185926                          0               1  \n",
       "...                           ...             ...  \n",
       "510534                         4+               0  \n",
       "546035                          0               1  \n",
       "451642                          3               1  \n",
       "464914                          1               0  \n",
       "530165                         4+               1  \n",
       "\n",
       "[500 rows x 8 columns]"
      ]
     },
     "execution_count": 327,
     "metadata": {},
     "output_type": "execute_result"
    }
   ],
   "source": [
    "sample_01"
   ]
  },
  {
   "cell_type": "markdown",
   "id": "17b8e48e",
   "metadata": {},
   "source": [
    "## sample_01 : a random sample of 500 users data from the dataframe"
   ]
  },
  {
   "cell_type": "code",
   "execution_count": 336,
   "id": "96fe2b24",
   "metadata": {},
   "outputs": [
    {
     "data": {
      "text/html": [
       "<div>\n",
       "<style scoped>\n",
       "    .dataframe tbody tr th:only-of-type {\n",
       "        vertical-align: middle;\n",
       "    }\n",
       "\n",
       "    .dataframe tbody tr th {\n",
       "        vertical-align: top;\n",
       "    }\n",
       "\n",
       "    .dataframe thead th {\n",
       "        text-align: right;\n",
       "    }\n",
       "</style>\n",
       "<table border=\"1\" class=\"dataframe\">\n",
       "  <thead>\n",
       "    <tr style=\"text-align: right;\">\n",
       "      <th></th>\n",
       "      <th>User_ID</th>\n",
       "      <th>Purchase_Total</th>\n",
       "      <th>Occupation</th>\n",
       "      <th>Marital_Status</th>\n",
       "    </tr>\n",
       "  </thead>\n",
       "  <tbody>\n",
       "    <tr>\n",
       "      <th>count</th>\n",
       "      <td>5.000000e+02</td>\n",
       "      <td>5.000000e+02</td>\n",
       "      <td>500.000000</td>\n",
       "      <td>500.000000</td>\n",
       "    </tr>\n",
       "    <tr>\n",
       "      <th>mean</th>\n",
       "      <td>1.003000e+06</td>\n",
       "      <td>9.096876e+05</td>\n",
       "      <td>7.794000</td>\n",
       "      <td>0.390000</td>\n",
       "    </tr>\n",
       "    <tr>\n",
       "      <th>std</th>\n",
       "      <td>1.700266e+03</td>\n",
       "      <td>1.003857e+06</td>\n",
       "      <td>6.183529</td>\n",
       "      <td>0.488238</td>\n",
       "    </tr>\n",
       "    <tr>\n",
       "      <th>min</th>\n",
       "      <td>1.000013e+06</td>\n",
       "      <td>5.780500e+04</td>\n",
       "      <td>0.000000</td>\n",
       "      <td>0.000000</td>\n",
       "    </tr>\n",
       "    <tr>\n",
       "      <th>25%</th>\n",
       "      <td>1.001497e+06</td>\n",
       "      <td>2.536870e+05</td>\n",
       "      <td>2.000000</td>\n",
       "      <td>0.000000</td>\n",
       "    </tr>\n",
       "    <tr>\n",
       "      <th>50%</th>\n",
       "      <td>1.003034e+06</td>\n",
       "      <td>5.307290e+05</td>\n",
       "      <td>7.000000</td>\n",
       "      <td>0.000000</td>\n",
       "    </tr>\n",
       "    <tr>\n",
       "      <th>75%</th>\n",
       "      <td>1.004442e+06</td>\n",
       "      <td>1.091431e+06</td>\n",
       "      <td>14.000000</td>\n",
       "      <td>1.000000</td>\n",
       "    </tr>\n",
       "    <tr>\n",
       "      <th>max</th>\n",
       "      <td>1.006035e+06</td>\n",
       "      <td>6.310723e+06</td>\n",
       "      <td>20.000000</td>\n",
       "      <td>1.000000</td>\n",
       "    </tr>\n",
       "  </tbody>\n",
       "</table>\n",
       "</div>"
      ],
      "text/plain": [
       "            User_ID  Purchase_Total  Occupation  Marital_Status\n",
       "count  5.000000e+02    5.000000e+02  500.000000      500.000000\n",
       "mean   1.003000e+06    9.096876e+05    7.794000        0.390000\n",
       "std    1.700266e+03    1.003857e+06    6.183529        0.488238\n",
       "min    1.000013e+06    5.780500e+04    0.000000        0.000000\n",
       "25%    1.001497e+06    2.536870e+05    2.000000        0.000000\n",
       "50%    1.003034e+06    5.307290e+05    7.000000        0.000000\n",
       "75%    1.004442e+06    1.091431e+06   14.000000        1.000000\n",
       "max    1.006035e+06    6.310723e+06   20.000000        1.000000"
      ]
     },
     "execution_count": 336,
     "metadata": {},
     "output_type": "execute_result"
    }
   ],
   "source": [
    "sample_01.describe()"
   ]
  },
  {
   "cell_type": "code",
   "execution_count": 337,
   "id": "36e7199e",
   "metadata": {},
   "outputs": [
    {
     "data": {
      "text/html": [
       "<div>\n",
       "<style scoped>\n",
       "    .dataframe tbody tr th:only-of-type {\n",
       "        vertical-align: middle;\n",
       "    }\n",
       "\n",
       "    .dataframe tbody tr th {\n",
       "        vertical-align: top;\n",
       "    }\n",
       "\n",
       "    .dataframe thead th {\n",
       "        text-align: right;\n",
       "    }\n",
       "</style>\n",
       "<table border=\"1\" class=\"dataframe\">\n",
       "  <thead>\n",
       "    <tr style=\"text-align: right;\">\n",
       "      <th></th>\n",
       "      <th>Gender</th>\n",
       "      <th>Age</th>\n",
       "      <th>City_Category</th>\n",
       "      <th>Stay_In_Current_City_Years</th>\n",
       "    </tr>\n",
       "  </thead>\n",
       "  <tbody>\n",
       "    <tr>\n",
       "      <th>count</th>\n",
       "      <td>500</td>\n",
       "      <td>500</td>\n",
       "      <td>500</td>\n",
       "      <td>500</td>\n",
       "    </tr>\n",
       "    <tr>\n",
       "      <th>unique</th>\n",
       "      <td>2</td>\n",
       "      <td>7</td>\n",
       "      <td>3</td>\n",
       "      <td>5</td>\n",
       "    </tr>\n",
       "    <tr>\n",
       "      <th>top</th>\n",
       "      <td>M</td>\n",
       "      <td>26-35</td>\n",
       "      <td>C</td>\n",
       "      <td>1</td>\n",
       "    </tr>\n",
       "    <tr>\n",
       "      <th>freq</th>\n",
       "      <td>369</td>\n",
       "      <td>168</td>\n",
       "      <td>247</td>\n",
       "      <td>163</td>\n",
       "    </tr>\n",
       "  </tbody>\n",
       "</table>\n",
       "</div>"
      ],
      "text/plain": [
       "       Gender    Age City_Category Stay_In_Current_City_Years\n",
       "count     500    500           500                        500\n",
       "unique      2      7             3                          5\n",
       "top         M  26-35             C                          1\n",
       "freq      369    168           247                        163"
      ]
     },
     "execution_count": 337,
     "metadata": {},
     "output_type": "execute_result"
    }
   ],
   "source": [
    "sample_01.describe(include='object')"
   ]
  },
  {
   "cell_type": "code",
   "execution_count": 338,
   "id": "db49be75",
   "metadata": {},
   "outputs": [
    {
     "data": {
      "text/plain": [
       "Gender\n",
       "M    369\n",
       "F    131\n",
       "Name: count, dtype: int64"
      ]
     },
     "execution_count": 338,
     "metadata": {},
     "output_type": "execute_result"
    }
   ],
   "source": [
    "sample_01['Gender'].value_counts()"
   ]
  },
  {
   "cell_type": "code",
   "execution_count": 339,
   "id": "7152123a",
   "metadata": {},
   "outputs": [
    {
     "data": {
      "text/plain": [
       "Gender\n",
       "F    743053.183206\n",
       "M    968845.116531\n",
       "Name: Purchase_Total, dtype: float64"
      ]
     },
     "execution_count": 339,
     "metadata": {},
     "output_type": "execute_result"
    }
   ],
   "source": [
    "sample_01.groupby(['Gender'])['Purchase_Total'].mean()"
   ]
  },
  {
   "cell_type": "code",
   "execution_count": 357,
   "id": "063f554b",
   "metadata": {},
   "outputs": [],
   "source": [
    "mean_Purchase_Total_Male_sample_01=968845.116531"
   ]
  },
  {
   "cell_type": "code",
   "execution_count": 358,
   "id": "d736d21e",
   "metadata": {},
   "outputs": [],
   "source": [
    "mean_Purchase_Total_Female_sample_01=743053.183206"
   ]
  },
  {
   "cell_type": "code",
   "execution_count": 359,
   "id": "83a8c7ca",
   "metadata": {},
   "outputs": [
    {
     "data": {
      "text/plain": [
       "Gender\n",
       "F    7.837921e+05\n",
       "M    1.065855e+06\n",
       "Name: Purchase_Total, dtype: float64"
      ]
     },
     "execution_count": 359,
     "metadata": {},
     "output_type": "execute_result"
    }
   ],
   "source": [
    "sample_01.groupby(['Gender'])['Purchase_Total'].std()"
   ]
  },
  {
   "cell_type": "code",
   "execution_count": 360,
   "id": "c194e3a6",
   "metadata": {},
   "outputs": [],
   "source": [
    "std_Purchase_Total_Male_sample_01= 1.065855e+06"
   ]
  },
  {
   "cell_type": "code",
   "execution_count": 361,
   "id": "df3b550e",
   "metadata": {},
   "outputs": [],
   "source": [
    "std_Purchase_Total_Female_sample_01 = 7.837921e+05"
   ]
  },
  {
   "cell_type": "code",
   "execution_count": null,
   "id": "a4ea8eb7",
   "metadata": {},
   "outputs": [],
   "source": []
  },
  {
   "cell_type": "code",
   "execution_count": 539,
   "id": "b13a8e92",
   "metadata": {},
   "outputs": [],
   "source": [
    "CI_99_Male_sample_01=norm.interval(0.99,loc=mean_Purchase_Total_Male_sample_01,scale=(std_Purchase_Total_Male_sample_01/np.sqrt(369)))"
   ]
  },
  {
   "cell_type": "code",
   "execution_count": 540,
   "id": "07063518",
   "metadata": {},
   "outputs": [
    {
     "data": {
      "text/plain": [
       "(825922.1495266496, 1111768.0835353504)"
      ]
     },
     "execution_count": 540,
     "metadata": {},
     "output_type": "execute_result"
    }
   ],
   "source": [
    "CI_99_Male_sample_01"
   ]
  },
  {
   "cell_type": "code",
   "execution_count": 541,
   "id": "f475d44d",
   "metadata": {},
   "outputs": [],
   "source": [
    "CI_99_Female_sample_01=norm.interval(0.99,loc=mean_Purchase_Total_Female_sample_01,scale=(std_Purchase_Total_Female_sample_01/np.sqrt(131)))"
   ]
  },
  {
   "cell_type": "code",
   "execution_count": 542,
   "id": "88da8d7d",
   "metadata": {},
   "outputs": [
    {
     "data": {
      "text/plain": [
       "(566659.7904377992, 919446.5759742009)"
      ]
     },
     "execution_count": 542,
     "metadata": {},
     "output_type": "execute_result"
    }
   ],
   "source": [
    "CI_99_Female_sample_01"
   ]
  },
  {
   "cell_type": "markdown",
   "id": "beeb1bb7",
   "metadata": {},
   "source": [
    "#### 99% Confidence Interval Fails as CI for Male and Female are overlapping for sample size 500\n"
   ]
  },
  {
   "cell_type": "code",
   "execution_count": null,
   "id": "9598400e",
   "metadata": {},
   "outputs": [],
   "source": []
  },
  {
   "cell_type": "code",
   "execution_count": 551,
   "id": "b7e70867",
   "metadata": {},
   "outputs": [],
   "source": [
    "CI_95_Male_sample_01=norm.interval(0.95,loc=mean_Purchase_Total_Male_sample_01,scale=(std_Purchase_Total_Male_sample_01/np.sqrt(369)))"
   ]
  },
  {
   "cell_type": "code",
   "execution_count": 552,
   "id": "35056c3e",
   "metadata": {},
   "outputs": [
    {
     "data": {
      "text/plain": [
       "(860094.1727063502, 1077596.0603556498)"
      ]
     },
     "execution_count": 552,
     "metadata": {},
     "output_type": "execute_result"
    }
   ],
   "source": [
    "CI_95_Male_sample_01"
   ]
  },
  {
   "cell_type": "code",
   "execution_count": 553,
   "id": "4e115a1b",
   "metadata": {},
   "outputs": [],
   "source": [
    "CI_95_Female_sample_01=norm.interval(0.95,loc=mean_Purchase_Total_Female_sample_01,scale=(std_Purchase_Total_Female_sample_01/np.sqrt(131)))"
   ]
  },
  {
   "cell_type": "code",
   "execution_count": 555,
   "id": "804f4c33",
   "metadata": {},
   "outputs": [
    {
     "data": {
      "text/plain": [
       "(608834.391432736, 877271.9749792641)"
      ]
     },
     "execution_count": 555,
     "metadata": {},
     "output_type": "execute_result"
    }
   ],
   "source": [
    "CI_95_Female_sample_01"
   ]
  },
  {
   "attachments": {},
   "cell_type": "markdown",
   "id": "30db14e5",
   "metadata": {},
   "source": [
    "#### 95% Confidence Interval Fails as CI for Male and Female are overlapping for sample size 500"
   ]
  },
  {
   "cell_type": "code",
   "execution_count": null,
   "id": "8a2ddab6",
   "metadata": {},
   "outputs": [],
   "source": []
  },
  {
   "cell_type": "code",
   "execution_count": 560,
   "id": "716332c7",
   "metadata": {},
   "outputs": [],
   "source": [
    "CI_90_Male_sample_01=norm.interval(0.90,loc=mean_Purchase_Total_Male_sample_01,scale=(std_Purchase_Total_Male_sample_01/np.sqrt(369)))"
   ]
  },
  {
   "cell_type": "code",
   "execution_count": 561,
   "id": "93db6f4e",
   "metadata": {},
   "outputs": [
    {
     "data": {
      "text/plain": [
       "(877578.447451696, 1060111.785610304)"
      ]
     },
     "execution_count": 561,
     "metadata": {},
     "output_type": "execute_result"
    }
   ],
   "source": [
    "CI_90_Male_sample_01"
   ]
  },
  {
   "cell_type": "code",
   "execution_count": 564,
   "id": "69584406",
   "metadata": {},
   "outputs": [],
   "source": [
    "CI_90_Female_sample_01=norm.interval(0.90,loc=mean_Purchase_Total_Female_sample_01,scale=(std_Purchase_Total_Female_sample_01/np.sqrt(131)))"
   ]
  },
  {
   "cell_type": "code",
   "execution_count": 565,
   "id": "bcf7b464",
   "metadata": {},
   "outputs": [
    {
     "data": {
      "text/plain": [
       "(630413.2223726859, 855693.1440393141)"
      ]
     },
     "execution_count": 565,
     "metadata": {},
     "output_type": "execute_result"
    }
   ],
   "source": [
    "CI_90_Female_sample_01"
   ]
  },
  {
   "cell_type": "markdown",
   "id": "d95e0ddf",
   "metadata": {},
   "source": [
    "#### with 90% Confidence we can say that Male spending is more than Female spending as CI for Male and Female don't overalp"
   ]
  },
  {
   "cell_type": "code",
   "execution_count": null,
   "id": "8d96abb2",
   "metadata": {},
   "outputs": [],
   "source": []
  },
  {
   "cell_type": "code",
   "execution_count": 340,
   "id": "e61a1c74",
   "metadata": {},
   "outputs": [
    {
     "data": {
      "text/plain": [
       "Gender\n",
       "F    446445.0\n",
       "M    577734.0\n",
       "Name: Purchase_Total, dtype: float64"
      ]
     },
     "execution_count": 340,
     "metadata": {},
     "output_type": "execute_result"
    }
   ],
   "source": [
    "sample_01.groupby(['Gender'])['Purchase_Total'].median()"
   ]
  },
  {
   "cell_type": "markdown",
   "id": "91fb27b9",
   "metadata": {},
   "source": [
    "#### median is robust estimate as it is not getting affected by outliers"
   ]
  },
  {
   "cell_type": "code",
   "execution_count": 351,
   "id": "617a6076",
   "metadata": {},
   "outputs": [
    {
     "data": {
      "text/plain": [
       "<Axes: xlabel='Gender', ylabel='Purchase_Total'>"
      ]
     },
     "execution_count": 351,
     "metadata": {},
     "output_type": "execute_result"
    },
    {
     "data": {
      "image/png": "[encoded data removed]",
      "text/plain": [
       "<Figure size 640x480 with 1 Axes>"
      ]
     },
     "metadata": {},
     "output_type": "display_data"
    }
   ],
   "source": [
    "sns.boxplot(data=sample_01,x='Gender', y='Purchase_Total')"
   ]
  },
  {
   "cell_type": "markdown",
   "id": "65cddaf7",
   "metadata": {},
   "source": [
    "#### Male users are spending more compared to Female users as per the above box plot (90% confidence interval proves it)"
   ]
  },
  {
   "cell_type": "code",
   "execution_count": 341,
   "id": "04697abb",
   "metadata": {},
   "outputs": [
    {
     "data": {
      "text/plain": [
       "<Axes: xlabel='Gender', ylabel='Purchase_Total'>"
      ]
     },
     "execution_count": 341,
     "metadata": {},
     "output_type": "execute_result"
    },
    {
     "data": {
      "image/png": "[encoded data removed]",
      "text/plain": [
       "<Figure size 640x480 with 1 Axes>"
      ]
     },
     "metadata": {},
     "output_type": "display_data"
    }
   ],
   "source": [
    "sns.boxplot(data=sample_01,x='Gender', y='Purchase_Total',hue='City_Category')"
   ]
  },
  {
   "cell_type": "markdown",
   "id": "862cbc7d",
   "metadata": {},
   "source": [
    "#### sample_01 shows similar charesterics as population"
   ]
  },
  {
   "cell_type": "markdown",
   "id": "f97c31c2",
   "metadata": {},
   "source": [
    "## sample_02 of random sample of 1000 from population data set "
   ]
  },
  {
   "cell_type": "code",
   "execution_count": 378,
   "id": "777e9948",
   "metadata": {},
   "outputs": [],
   "source": [
    "sample_02=df2.sample(n=1000, replace=True)"
   ]
  },
  {
   "cell_type": "code",
   "execution_count": 379,
   "id": "ccc384b6",
   "metadata": {},
   "outputs": [
    {
     "data": {
      "text/html": [
       "<div>\n",
       "<style scoped>\n",
       "    .dataframe tbody tr th:only-of-type {\n",
       "        vertical-align: middle;\n",
       "    }\n",
       "\n",
       "    .dataframe tbody tr th {\n",
       "        vertical-align: top;\n",
       "    }\n",
       "\n",
       "    .dataframe thead th {\n",
       "        text-align: right;\n",
       "    }\n",
       "</style>\n",
       "<table border=\"1\" class=\"dataframe\">\n",
       "  <thead>\n",
       "    <tr style=\"text-align: right;\">\n",
       "      <th></th>\n",
       "      <th>User_ID</th>\n",
       "      <th>Purchase_Total</th>\n",
       "      <th>Occupation</th>\n",
       "      <th>Marital_Status</th>\n",
       "    </tr>\n",
       "  </thead>\n",
       "  <tbody>\n",
       "    <tr>\n",
       "      <th>count</th>\n",
       "      <td>1.000000e+03</td>\n",
       "      <td>1.000000e+03</td>\n",
       "      <td>1000.000000</td>\n",
       "      <td>1000.000000</td>\n",
       "    </tr>\n",
       "    <tr>\n",
       "      <th>mean</th>\n",
       "      <td>1.003049e+06</td>\n",
       "      <td>8.458714e+05</td>\n",
       "      <td>8.371000</td>\n",
       "      <td>0.415000</td>\n",
       "    </tr>\n",
       "    <tr>\n",
       "      <th>std</th>\n",
       "      <td>1.743358e+03</td>\n",
       "      <td>9.052564e+05</td>\n",
       "      <td>6.148753</td>\n",
       "      <td>0.492969</td>\n",
       "    </tr>\n",
       "    <tr>\n",
       "      <th>min</th>\n",
       "      <td>1.000024e+06</td>\n",
       "      <td>5.237100e+04</td>\n",
       "      <td>0.000000</td>\n",
       "      <td>0.000000</td>\n",
       "    </tr>\n",
       "    <tr>\n",
       "      <th>25%</th>\n",
       "      <td>1.001524e+06</td>\n",
       "      <td>2.353570e+05</td>\n",
       "      <td>4.000000</td>\n",
       "      <td>0.000000</td>\n",
       "    </tr>\n",
       "    <tr>\n",
       "      <th>50%</th>\n",
       "      <td>1.003076e+06</td>\n",
       "      <td>5.066885e+05</td>\n",
       "      <td>7.000000</td>\n",
       "      <td>0.000000</td>\n",
       "    </tr>\n",
       "    <tr>\n",
       "      <th>75%</th>\n",
       "      <td>1.004514e+06</td>\n",
       "      <td>1.116611e+06</td>\n",
       "      <td>14.000000</td>\n",
       "      <td>1.000000</td>\n",
       "    </tr>\n",
       "    <tr>\n",
       "      <th>max</th>\n",
       "      <td>1.006035e+06</td>\n",
       "      <td>6.477160e+06</td>\n",
       "      <td>20.000000</td>\n",
       "      <td>1.000000</td>\n",
       "    </tr>\n",
       "  </tbody>\n",
       "</table>\n",
       "</div>"
      ],
      "text/plain": [
       "            User_ID  Purchase_Total   Occupation  Marital_Status\n",
       "count  1.000000e+03    1.000000e+03  1000.000000     1000.000000\n",
       "mean   1.003049e+06    8.458714e+05     8.371000        0.415000\n",
       "std    1.743358e+03    9.052564e+05     6.148753        0.492969\n",
       "min    1.000024e+06    5.237100e+04     0.000000        0.000000\n",
       "25%    1.001524e+06    2.353570e+05     4.000000        0.000000\n",
       "50%    1.003076e+06    5.066885e+05     7.000000        0.000000\n",
       "75%    1.004514e+06    1.116611e+06    14.000000        1.000000\n",
       "max    1.006035e+06    6.477160e+06    20.000000        1.000000"
      ]
     },
     "execution_count": 379,
     "metadata": {},
     "output_type": "execute_result"
    }
   ],
   "source": [
    "sample_02.describe()"
   ]
  },
  {
   "cell_type": "code",
   "execution_count": null,
   "id": "775427f0",
   "metadata": {},
   "outputs": [],
   "source": []
  },
  {
   "cell_type": "code",
   "execution_count": 380,
   "id": "40523a5f",
   "metadata": {},
   "outputs": [
    {
     "data": {
      "text/html": [
       "<div>\n",
       "<style scoped>\n",
       "    .dataframe tbody tr th:only-of-type {\n",
       "        vertical-align: middle;\n",
       "    }\n",
       "\n",
       "    .dataframe tbody tr th {\n",
       "        vertical-align: top;\n",
       "    }\n",
       "\n",
       "    .dataframe thead th {\n",
       "        text-align: right;\n",
       "    }\n",
       "</style>\n",
       "<table border=\"1\" class=\"dataframe\">\n",
       "  <thead>\n",
       "    <tr style=\"text-align: right;\">\n",
       "      <th></th>\n",
       "      <th>Gender</th>\n",
       "      <th>Age</th>\n",
       "      <th>City_Category</th>\n",
       "      <th>Stay_In_Current_City_Years</th>\n",
       "    </tr>\n",
       "  </thead>\n",
       "  <tbody>\n",
       "    <tr>\n",
       "      <th>count</th>\n",
       "      <td>1000</td>\n",
       "      <td>1000</td>\n",
       "      <td>1000</td>\n",
       "      <td>1000</td>\n",
       "    </tr>\n",
       "    <tr>\n",
       "      <th>unique</th>\n",
       "      <td>2</td>\n",
       "      <td>7</td>\n",
       "      <td>3</td>\n",
       "      <td>5</td>\n",
       "    </tr>\n",
       "    <tr>\n",
       "      <th>top</th>\n",
       "      <td>M</td>\n",
       "      <td>26-35</td>\n",
       "      <td>C</td>\n",
       "      <td>1</td>\n",
       "    </tr>\n",
       "    <tr>\n",
       "      <th>freq</th>\n",
       "      <td>707</td>\n",
       "      <td>328</td>\n",
       "      <td>526</td>\n",
       "      <td>341</td>\n",
       "    </tr>\n",
       "  </tbody>\n",
       "</table>\n",
       "</div>"
      ],
      "text/plain": [
       "       Gender    Age City_Category Stay_In_Current_City_Years\n",
       "count    1000   1000          1000                       1000\n",
       "unique      2      7             3                          5\n",
       "top         M  26-35             C                          1\n",
       "freq      707    328           526                        341"
      ]
     },
     "execution_count": 380,
     "metadata": {},
     "output_type": "execute_result"
    }
   ],
   "source": [
    "sample_02.describe(include='object')"
   ]
  },
  {
   "cell_type": "code",
   "execution_count": null,
   "id": "1b3603ec",
   "metadata": {},
   "outputs": [],
   "source": []
  },
  {
   "cell_type": "code",
   "execution_count": 381,
   "id": "f892d6d6",
   "metadata": {},
   "outputs": [
    {
     "data": {
      "text/plain": [
       "Gender\n",
       "M    707\n",
       "F    293\n",
       "Name: count, dtype: int64"
      ]
     },
     "execution_count": 381,
     "metadata": {},
     "output_type": "execute_result"
    }
   ],
   "source": [
    "sample_02['Gender'].value_counts()"
   ]
  },
  {
   "cell_type": "code",
   "execution_count": null,
   "id": "e4bf23f5",
   "metadata": {},
   "outputs": [],
   "source": []
  },
  {
   "cell_type": "code",
   "execution_count": 382,
   "id": "335115f3",
   "metadata": {},
   "outputs": [
    {
     "data": {
      "text/plain": [
       "Gender\n",
       "F    672692.119454\n",
       "M    917641.632249\n",
       "Name: Purchase_Total, dtype: float64"
      ]
     },
     "execution_count": 382,
     "metadata": {},
     "output_type": "execute_result"
    }
   ],
   "source": [
    "sample_02.groupby(['Gender'])['Purchase_Total'].mean()"
   ]
  },
  {
   "cell_type": "code",
   "execution_count": null,
   "id": "a05ba185",
   "metadata": {},
   "outputs": [],
   "source": []
  },
  {
   "cell_type": "code",
   "execution_count": 387,
   "id": "59885503",
   "metadata": {},
   "outputs": [],
   "source": [
    "mean_Purchase_Total_Male_sample_02=917641.632249"
   ]
  },
  {
   "cell_type": "code",
   "execution_count": 388,
   "id": "7d35a813",
   "metadata": {},
   "outputs": [],
   "source": [
    "mean_Purchase_Total_Female_sample_02=672692.119454"
   ]
  },
  {
   "cell_type": "code",
   "execution_count": 383,
   "id": "8cb1ea70",
   "metadata": {},
   "outputs": [
    {
     "data": {
      "text/plain": [
       "Gender\n",
       "F    736764.861554\n",
       "M    957848.422046\n",
       "Name: Purchase_Total, dtype: float64"
      ]
     },
     "execution_count": 383,
     "metadata": {},
     "output_type": "execute_result"
    }
   ],
   "source": [
    "sample_02.groupby(['Gender'])['Purchase_Total'].std()"
   ]
  },
  {
   "cell_type": "code",
   "execution_count": 384,
   "id": "93f2bd7d",
   "metadata": {},
   "outputs": [],
   "source": [
    "std_Purchase_Total_Male_sample_02=957848.422046"
   ]
  },
  {
   "cell_type": "code",
   "execution_count": 385,
   "id": "eba743b8",
   "metadata": {},
   "outputs": [],
   "source": [
    "std_Purchase_Total_Female_sample_02=736764.861554"
   ]
  },
  {
   "cell_type": "code",
   "execution_count": 389,
   "id": "32671b75",
   "metadata": {},
   "outputs": [],
   "source": [
    "CI_95_Male_sample_02=norm.interval(0.95,loc=mean_Purchase_Total_Male_sample_02,scale=(std_Purchase_Total_Male_sample_02/np.sqrt(707)))"
   ]
  },
  {
   "cell_type": "code",
   "execution_count": 390,
   "id": "c11cca49",
   "metadata": {},
   "outputs": [
    {
     "data": {
      "text/plain": [
       "(847036.6786020406, 988246.5858959594)"
      ]
     },
     "execution_count": 390,
     "metadata": {},
     "output_type": "execute_result"
    }
   ],
   "source": [
    "CI_95_Male_sample_02"
   ]
  },
  {
   "cell_type": "code",
   "execution_count": null,
   "id": "eb1669cc",
   "metadata": {},
   "outputs": [],
   "source": []
  },
  {
   "cell_type": "code",
   "execution_count": 395,
   "id": "50e0affb",
   "metadata": {},
   "outputs": [],
   "source": [
    "CI_95_Female_sample_02=norm.interval(0.95,loc=mean_Purchase_Total_Female_sample_02,scale=(std_Purchase_Total_Female_sample_02/np.sqrt(293)))"
   ]
  },
  {
   "cell_type": "code",
   "execution_count": 396,
   "id": "2a0e9348",
   "metadata": {},
   "outputs": [
    {
     "data": {
      "text/plain": [
       "(588330.8345648574, 757053.4043431426)"
      ]
     },
     "execution_count": 396,
     "metadata": {},
     "output_type": "execute_result"
    }
   ],
   "source": [
    "CI_95_Female_sample_02"
   ]
  },
  {
   "cell_type": "markdown",
   "id": "94c23068",
   "metadata": {},
   "source": [
    "### since 95% Confidence Intervals are not overlapping for sample_02, we can say with 95% confidence that Male spending is more than Female spending towards \"Purchase\""
   ]
  },
  {
   "cell_type": "code",
   "execution_count": null,
   "id": "328d8b74",
   "metadata": {},
   "outputs": [],
   "source": []
  },
  {
   "cell_type": "markdown",
   "id": "5c8db662",
   "metadata": {},
   "source": [
    "### 96% CI: Holds Good for sample size of 1000 users"
   ]
  },
  {
   "cell_type": "code",
   "execution_count": 401,
   "id": "a6ca2281",
   "metadata": {},
   "outputs": [],
   "source": [
    "CI_96_Male_sample_02=norm.interval(0.96,loc=mean_Purchase_Total_Male_sample_02,scale=(std_Purchase_Total_Male_sample_02/np.sqrt(707)))"
   ]
  },
  {
   "cell_type": "code",
   "execution_count": 402,
   "id": "2379b28f",
   "metadata": {},
   "outputs": [
    {
     "data": {
      "text/plain": [
       "(843658.2081751737, 991625.0563228263)"
      ]
     },
     "execution_count": 402,
     "metadata": {},
     "output_type": "execute_result"
    }
   ],
   "source": [
    "CI_96_Male_sample_02"
   ]
  },
  {
   "cell_type": "code",
   "execution_count": 403,
   "id": "351eba36",
   "metadata": {},
   "outputs": [],
   "source": [
    "CI_96_Female_sample_02=norm.interval(0.96,loc=mean_Purchase_Total_Female_sample_02,scale=(std_Purchase_Total_Female_sample_02/np.sqrt(293)))"
   ]
  },
  {
   "cell_type": "code",
   "execution_count": 404,
   "id": "ee5c8538",
   "metadata": {},
   "outputs": [
    {
     "data": {
      "text/plain": [
       "(584294.1191299096, 761090.1197780905)"
      ]
     },
     "execution_count": 404,
     "metadata": {},
     "output_type": "execute_result"
    }
   ],
   "source": [
    "CI_96_Female_sample_02"
   ]
  },
  {
   "cell_type": "code",
   "execution_count": null,
   "id": "ff87d233",
   "metadata": {},
   "outputs": [],
   "source": []
  },
  {
   "cell_type": "markdown",
   "id": "2b5f5b9b",
   "metadata": {},
   "source": [
    "### 97% CI: Holds Good for sample size of 1000 users"
   ]
  },
  {
   "cell_type": "code",
   "execution_count": 410,
   "id": "73b50adf",
   "metadata": {},
   "outputs": [],
   "source": [
    "CI_97_Male_sample_02=norm.interval(0.97,loc=mean_Purchase_Total_Male_sample_02,scale=(std_Purchase_Total_Male_sample_02/np.sqrt(707)))"
   ]
  },
  {
   "cell_type": "code",
   "execution_count": 411,
   "id": "3dfa6f08",
   "metadata": {},
   "outputs": [
    {
     "data": {
      "text/plain": [
       "(839467.1699998754, 995816.0944981247)"
      ]
     },
     "execution_count": 411,
     "metadata": {},
     "output_type": "execute_result"
    }
   ],
   "source": [
    "CI_97_Male_sample_02"
   ]
  },
  {
   "cell_type": "code",
   "execution_count": 412,
   "id": "abb531bf",
   "metadata": {},
   "outputs": [],
   "source": [
    "CI_97_Female_sample_02=norm.interval(0.97,loc=mean_Purchase_Total_Female_sample_02,scale=(std_Purchase_Total_Female_sample_02/np.sqrt(293)))"
   ]
  },
  {
   "cell_type": "code",
   "execution_count": 413,
   "id": "cdcfecbb",
   "metadata": {},
   "outputs": [
    {
     "data": {
      "text/plain": [
       "(579286.5191355025, 766097.7197724975)"
      ]
     },
     "execution_count": 413,
     "metadata": {},
     "output_type": "execute_result"
    }
   ],
   "source": [
    "CI_97_Female_sample_02"
   ]
  },
  {
   "cell_type": "code",
   "execution_count": null,
   "id": "e934350a",
   "metadata": {},
   "outputs": [],
   "source": []
  },
  {
   "cell_type": "markdown",
   "id": "fcef1e0c",
   "metadata": {},
   "source": [
    "### 98% CI: Holds Good for sample size of 1000 users"
   ]
  },
  {
   "cell_type": "code",
   "execution_count": null,
   "id": "49e0f3e2",
   "metadata": {},
   "outputs": [],
   "source": []
  },
  {
   "cell_type": "code",
   "execution_count": 414,
   "id": "095e0d4f",
   "metadata": {},
   "outputs": [],
   "source": [
    "CI_98_Male_sample_02=norm.interval(0.98,loc=mean_Purchase_Total_Male_sample_02,scale=(std_Purchase_Total_Male_sample_02/np.sqrt(707)))"
   ]
  },
  {
   "cell_type": "code",
   "execution_count": 566,
   "id": "3c17a355",
   "metadata": {},
   "outputs": [
    {
     "data": {
      "text/plain": [
       "(833838.2128448924, 1001445.0516531076)"
      ]
     },
     "execution_count": 566,
     "metadata": {},
     "output_type": "execute_result"
    }
   ],
   "source": [
    "CI_98_Male_sample_02"
   ]
  },
  {
   "cell_type": "code",
   "execution_count": 415,
   "id": "b27f9279",
   "metadata": {},
   "outputs": [],
   "source": [
    "CI_98_Female_sample_02=norm.interval(0.98,loc=mean_Purchase_Total_Female_sample_02,scale=(std_Purchase_Total_Female_sample_02/np.sqrt(293)))"
   ]
  },
  {
   "cell_type": "code",
   "execution_count": 416,
   "id": "6b031502",
   "metadata": {},
   "outputs": [
    {
     "data": {
      "text/plain": [
       "(572560.8429095151, 772823.3959984849)"
      ]
     },
     "execution_count": 416,
     "metadata": {},
     "output_type": "execute_result"
    }
   ],
   "source": [
    "CI_98_Female_sample_02"
   ]
  },
  {
   "cell_type": "code",
   "execution_count": null,
   "id": "48fc9430",
   "metadata": {},
   "outputs": [],
   "source": []
  },
  {
   "cell_type": "markdown",
   "id": "4853aafd",
   "metadata": {},
   "source": [
    "### 99% CI: Holds Good for sample size of 1000 users"
   ]
  },
  {
   "cell_type": "code",
   "execution_count": null,
   "id": "ba716cde",
   "metadata": {},
   "outputs": [],
   "source": []
  },
  {
   "cell_type": "code",
   "execution_count": 417,
   "id": "6dd7f33d",
   "metadata": {},
   "outputs": [],
   "source": [
    "CI_99_Male_sample_02=norm.interval(0.99,loc=mean_Purchase_Total_Male_sample_02,scale=(std_Purchase_Total_Male_sample_02/np.sqrt(707)))"
   ]
  },
  {
   "cell_type": "code",
   "execution_count": 418,
   "id": "c8565daf",
   "metadata": {},
   "outputs": [
    {
     "data": {
      "text/plain": [
       "(824850.9942505021, 1010432.270247498)"
      ]
     },
     "execution_count": 418,
     "metadata": {},
     "output_type": "execute_result"
    }
   ],
   "source": [
    "CI_99_Male_sample_02"
   ]
  },
  {
   "cell_type": "code",
   "execution_count": 423,
   "id": "97c4e74e",
   "metadata": {},
   "outputs": [],
   "source": [
    "CI_99_Female_sample_02=norm.interval(0.99,loc=mean_Purchase_Total_Female_sample_02,scale=(std_Purchase_Total_Female_sample_02/np.sqrt(293)))"
   ]
  },
  {
   "cell_type": "code",
   "execution_count": 424,
   "id": "37d0ef20",
   "metadata": {},
   "outputs": [
    {
     "data": {
      "text/plain": [
       "(561822.5976584327, 783561.6412495674)"
      ]
     },
     "execution_count": 424,
     "metadata": {},
     "output_type": "execute_result"
    }
   ],
   "source": [
    "CI_99_Female_sample_02"
   ]
  },
  {
   "cell_type": "code",
   "execution_count": null,
   "id": "9d2fe3e1",
   "metadata": {},
   "outputs": [],
   "source": []
  },
  {
   "cell_type": "markdown",
   "id": "69aafda8",
   "metadata": {},
   "source": [
    "### 99.5% CI: Holds Good for sample size of 1000 users"
   ]
  },
  {
   "cell_type": "code",
   "execution_count": 434,
   "id": "c4c730a2",
   "metadata": {},
   "outputs": [],
   "source": [
    "CI_995_Male_sample_02=norm.interval(0.995,loc=mean_Purchase_Total_Male_sample_02,scale=(std_Purchase_Total_Male_sample_02/np.sqrt(707)))"
   ]
  },
  {
   "cell_type": "code",
   "execution_count": 435,
   "id": "8f5679f5",
   "metadata": {},
   "outputs": [
    {
     "data": {
      "text/plain": [
       "(816522.1776760255, 1018761.0868219747)"
      ]
     },
     "execution_count": 435,
     "metadata": {},
     "output_type": "execute_result"
    }
   ],
   "source": [
    "CI_995_Male_sample_02"
   ]
  },
  {
   "cell_type": "code",
   "execution_count": 436,
   "id": "6213ff68",
   "metadata": {},
   "outputs": [],
   "source": [
    "CI_995_Female_sample_02=norm.interval(0.995,loc=mean_Purchase_Total_Female_sample_02,scale=(std_Purchase_Total_Female_sample_02/np.sqrt(293)))"
   ]
  },
  {
   "cell_type": "code",
   "execution_count": 437,
   "id": "89d5932b",
   "metadata": {},
   "outputs": [
    {
     "data": {
      "text/plain": [
       "(551871.0343256086, 793513.2045823918)"
      ]
     },
     "execution_count": 437,
     "metadata": {},
     "output_type": "execute_result"
    }
   ],
   "source": [
    "CI_995_Female_sample_02"
   ]
  },
  {
   "cell_type": "code",
   "execution_count": null,
   "id": "f88e48bf",
   "metadata": {},
   "outputs": [],
   "source": []
  },
  {
   "cell_type": "markdown",
   "id": "1ec45bbd",
   "metadata": {},
   "source": [
    "### 99.7% CI: Holds Good for sample size of 1000 users"
   ]
  },
  {
   "cell_type": "code",
   "execution_count": 438,
   "id": "92247cb2",
   "metadata": {},
   "outputs": [],
   "source": [
    "CI_997_Male_sample_02=norm.interval(0.997,loc=mean_Purchase_Total_Male_sample_02,scale=(std_Purchase_Total_Male_sample_02/np.sqrt(707)))"
   ]
  },
  {
   "cell_type": "code",
   "execution_count": 439,
   "id": "6caf03b7",
   "metadata": {},
   "outputs": [
    {
     "data": {
      "text/plain": [
       "(810733.0358115751, 1024550.2286864244)"
      ]
     },
     "execution_count": 439,
     "metadata": {},
     "output_type": "execute_result"
    }
   ],
   "source": [
    "CI_997_Male_sample_02"
   ]
  },
  {
   "cell_type": "code",
   "execution_count": 440,
   "id": "74142484",
   "metadata": {},
   "outputs": [],
   "source": [
    "CI_997_Female_sample_02=norm.interval(0.997,loc=mean_Purchase_Total_Female_sample_02,scale=(std_Purchase_Total_Female_sample_02/np.sqrt(293)))"
   ]
  },
  {
   "cell_type": "code",
   "execution_count": 441,
   "id": "a8645c79",
   "metadata": {},
   "outputs": [
    {
     "data": {
      "text/plain": [
       "(544953.9637680302, 800430.2751399693)"
      ]
     },
     "execution_count": 441,
     "metadata": {},
     "output_type": "execute_result"
    }
   ],
   "source": [
    "CI_997_Female_sample_02"
   ]
  },
  {
   "cell_type": "code",
   "execution_count": null,
   "id": "e65aa71e",
   "metadata": {},
   "outputs": [],
   "source": []
  },
  {
   "cell_type": "markdown",
   "id": "ec3cdc72",
   "metadata": {},
   "source": [
    "### 99.8% CI: Holds Good for sample size of 1000 users"
   ]
  },
  {
   "cell_type": "code",
   "execution_count": 442,
   "id": "3ae6b70a",
   "metadata": {},
   "outputs": [],
   "source": [
    "CI_998_Male_sample_02=norm.interval(0.998,loc=mean_Purchase_Total_Male_sample_02,scale=(std_Purchase_Total_Male_sample_02/np.sqrt(707)))"
   ]
  },
  {
   "cell_type": "code",
   "execution_count": 443,
   "id": "9c44fb19",
   "metadata": {},
   "outputs": [
    {
     "data": {
      "text/plain": [
       "(806320.3475435994, 1028962.9169544006)"
      ]
     },
     "execution_count": 443,
     "metadata": {},
     "output_type": "execute_result"
    }
   ],
   "source": [
    "CI_998_Male_sample_02"
   ]
  },
  {
   "cell_type": "code",
   "execution_count": 444,
   "id": "a981c3ba",
   "metadata": {},
   "outputs": [],
   "source": [
    "CI_998_Female_sample_02=norm.interval(0.998,loc=mean_Purchase_Total_Female_sample_02,scale=(std_Purchase_Total_Female_sample_02/np.sqrt(293)))"
   ]
  },
  {
   "cell_type": "code",
   "execution_count": 445,
   "id": "ed67c72e",
   "metadata": {},
   "outputs": [
    {
     "data": {
      "text/plain": [
       "(539681.5284377408, 805702.7104702593)"
      ]
     },
     "execution_count": 445,
     "metadata": {},
     "output_type": "execute_result"
    }
   ],
   "source": [
    "CI_998_Female_sample_02"
   ]
  },
  {
   "cell_type": "code",
   "execution_count": null,
   "id": "37adff43",
   "metadata": {},
   "outputs": [],
   "source": []
  },
  {
   "cell_type": "markdown",
   "id": "701fa0a1",
   "metadata": {},
   "source": [
    "#### 99.9% CI: Fails for sample size of 1000 users as confidence Intervals for Male and Female are slightky overlapping"
   ]
  },
  {
   "cell_type": "code",
   "execution_count": 547,
   "id": "59f97754",
   "metadata": {},
   "outputs": [],
   "source": [
    "CI_999_Male_sample_02=norm.interval(0.999,loc=mean_Purchase_Total_Male_sample_02,scale=(std_Purchase_Total_Male_sample_02/np.sqrt(707)))"
   ]
  },
  {
   "cell_type": "code",
   "execution_count": 548,
   "id": "1cf69829",
   "metadata": {},
   "outputs": [
    {
     "data": {
      "text/plain": [
       "(799105.0217889939, 1036178.2427090072)"
      ]
     },
     "execution_count": 548,
     "metadata": {},
     "output_type": "execute_result"
    }
   ],
   "source": [
    "CI_999_Male_sample_02"
   ]
  },
  {
   "cell_type": "code",
   "execution_count": 549,
   "id": "6e2c74af",
   "metadata": {},
   "outputs": [],
   "source": [
    "CI_999_Female_sample_02=norm.interval(0.999,loc=mean_Purchase_Total_Female_sample_02,scale=(std_Purchase_Total_Female_sample_02/np.sqrt(293)))"
   ]
  },
  {
   "cell_type": "code",
   "execution_count": 550,
   "id": "ac499cc9",
   "metadata": {},
   "outputs": [
    {
     "data": {
      "text/plain": [
       "(531060.4031467894, 814323.8357612119)"
      ]
     },
     "execution_count": 550,
     "metadata": {},
     "output_type": "execute_result"
    }
   ],
   "source": [
    "CI_999_Female_sample_02"
   ]
  },
  {
   "cell_type": "code",
   "execution_count": null,
   "id": "f9955353",
   "metadata": {},
   "outputs": [],
   "source": []
  },
  {
   "cell_type": "markdown",
   "id": "4a9f9c7e",
   "metadata": {},
   "source": [
    "## sample_03 of size 200 random samples (users) from original dataframe"
   ]
  },
  {
   "cell_type": "code",
   "execution_count": null,
   "id": "5ba48c6a",
   "metadata": {},
   "outputs": [],
   "source": []
  },
  {
   "cell_type": "code",
   "execution_count": 447,
   "id": "ebc95a70",
   "metadata": {},
   "outputs": [],
   "source": [
    "sample_03=df2.sample(n=200, replace=True)"
   ]
  },
  {
   "cell_type": "code",
   "execution_count": 448,
   "id": "a2ac2b09",
   "metadata": {},
   "outputs": [
    {
     "data": {
      "text/html": [
       "<div>\n",
       "<style scoped>\n",
       "    .dataframe tbody tr th:only-of-type {\n",
       "        vertical-align: middle;\n",
       "    }\n",
       "\n",
       "    .dataframe tbody tr th {\n",
       "        vertical-align: top;\n",
       "    }\n",
       "\n",
       "    .dataframe thead th {\n",
       "        text-align: right;\n",
       "    }\n",
       "</style>\n",
       "<table border=\"1\" class=\"dataframe\">\n",
       "  <thead>\n",
       "    <tr style=\"text-align: right;\">\n",
       "      <th></th>\n",
       "      <th>User_ID</th>\n",
       "      <th>Purchase_Total</th>\n",
       "      <th>Occupation</th>\n",
       "      <th>Marital_Status</th>\n",
       "    </tr>\n",
       "  </thead>\n",
       "  <tbody>\n",
       "    <tr>\n",
       "      <th>count</th>\n",
       "      <td>2.000000e+02</td>\n",
       "      <td>2.000000e+02</td>\n",
       "      <td>200.000000</td>\n",
       "      <td>200.000000</td>\n",
       "    </tr>\n",
       "    <tr>\n",
       "      <th>mean</th>\n",
       "      <td>1.003297e+06</td>\n",
       "      <td>8.268884e+05</td>\n",
       "      <td>7.200000</td>\n",
       "      <td>0.415000</td>\n",
       "    </tr>\n",
       "    <tr>\n",
       "      <th>std</th>\n",
       "      <td>1.719448e+03</td>\n",
       "      <td>8.982621e+05</td>\n",
       "      <td>6.025073</td>\n",
       "      <td>0.493958</td>\n",
       "    </tr>\n",
       "    <tr>\n",
       "      <th>min</th>\n",
       "      <td>1.000017e+06</td>\n",
       "      <td>7.593100e+04</td>\n",
       "      <td>0.000000</td>\n",
       "      <td>0.000000</td>\n",
       "    </tr>\n",
       "    <tr>\n",
       "      <th>25%</th>\n",
       "      <td>1.001968e+06</td>\n",
       "      <td>2.163305e+05</td>\n",
       "      <td>2.000000</td>\n",
       "      <td>0.000000</td>\n",
       "    </tr>\n",
       "    <tr>\n",
       "      <th>50%</th>\n",
       "      <td>1.003360e+06</td>\n",
       "      <td>4.813695e+05</td>\n",
       "      <td>6.000000</td>\n",
       "      <td>0.000000</td>\n",
       "    </tr>\n",
       "    <tr>\n",
       "      <th>75%</th>\n",
       "      <td>1.004948e+06</td>\n",
       "      <td>1.206569e+06</td>\n",
       "      <td>12.000000</td>\n",
       "      <td>1.000000</td>\n",
       "    </tr>\n",
       "    <tr>\n",
       "      <th>max</th>\n",
       "      <td>1.006033e+06</td>\n",
       "      <td>6.126540e+06</td>\n",
       "      <td>20.000000</td>\n",
       "      <td>1.000000</td>\n",
       "    </tr>\n",
       "  </tbody>\n",
       "</table>\n",
       "</div>"
      ],
      "text/plain": [
       "            User_ID  Purchase_Total  Occupation  Marital_Status\n",
       "count  2.000000e+02    2.000000e+02  200.000000      200.000000\n",
       "mean   1.003297e+06    8.268884e+05    7.200000        0.415000\n",
       "std    1.719448e+03    8.982621e+05    6.025073        0.493958\n",
       "min    1.000017e+06    7.593100e+04    0.000000        0.000000\n",
       "25%    1.001968e+06    2.163305e+05    2.000000        0.000000\n",
       "50%    1.003360e+06    4.813695e+05    6.000000        0.000000\n",
       "75%    1.004948e+06    1.206569e+06   12.000000        1.000000\n",
       "max    1.006033e+06    6.126540e+06   20.000000        1.000000"
      ]
     },
     "execution_count": 448,
     "metadata": {},
     "output_type": "execute_result"
    }
   ],
   "source": [
    "sample_03.describe()"
   ]
  },
  {
   "cell_type": "code",
   "execution_count": 449,
   "id": "10346946",
   "metadata": {},
   "outputs": [
    {
     "data": {
      "text/html": [
       "<div>\n",
       "<style scoped>\n",
       "    .dataframe tbody tr th:only-of-type {\n",
       "        vertical-align: middle;\n",
       "    }\n",
       "\n",
       "    .dataframe tbody tr th {\n",
       "        vertical-align: top;\n",
       "    }\n",
       "\n",
       "    .dataframe thead th {\n",
       "        text-align: right;\n",
       "    }\n",
       "</style>\n",
       "<table border=\"1\" class=\"dataframe\">\n",
       "  <thead>\n",
       "    <tr style=\"text-align: right;\">\n",
       "      <th></th>\n",
       "      <th>Gender</th>\n",
       "      <th>Age</th>\n",
       "      <th>City_Category</th>\n",
       "      <th>Stay_In_Current_City_Years</th>\n",
       "    </tr>\n",
       "  </thead>\n",
       "  <tbody>\n",
       "    <tr>\n",
       "      <th>count</th>\n",
       "      <td>200</td>\n",
       "      <td>200</td>\n",
       "      <td>200</td>\n",
       "      <td>200</td>\n",
       "    </tr>\n",
       "    <tr>\n",
       "      <th>unique</th>\n",
       "      <td>2</td>\n",
       "      <td>7</td>\n",
       "      <td>3</td>\n",
       "      <td>5</td>\n",
       "    </tr>\n",
       "    <tr>\n",
       "      <th>top</th>\n",
       "      <td>M</td>\n",
       "      <td>26-35</td>\n",
       "      <td>C</td>\n",
       "      <td>1</td>\n",
       "    </tr>\n",
       "    <tr>\n",
       "      <th>freq</th>\n",
       "      <td>140</td>\n",
       "      <td>73</td>\n",
       "      <td>104</td>\n",
       "      <td>76</td>\n",
       "    </tr>\n",
       "  </tbody>\n",
       "</table>\n",
       "</div>"
      ],
      "text/plain": [
       "       Gender    Age City_Category Stay_In_Current_City_Years\n",
       "count     200    200           200                        200\n",
       "unique      2      7             3                          5\n",
       "top         M  26-35             C                          1\n",
       "freq      140     73           104                         76"
      ]
     },
     "execution_count": 449,
     "metadata": {},
     "output_type": "execute_result"
    }
   ],
   "source": [
    "sample_03.describe(include='object')"
   ]
  },
  {
   "cell_type": "code",
   "execution_count": 450,
   "id": "3e04cc58",
   "metadata": {},
   "outputs": [
    {
     "data": {
      "text/plain": [
       "Gender\n",
       "M    140\n",
       "F     60\n",
       "Name: count, dtype: int64"
      ]
     },
     "execution_count": 450,
     "metadata": {},
     "output_type": "execute_result"
    }
   ],
   "source": [
    "sample_03['Gender'].value_counts()"
   ]
  },
  {
   "cell_type": "code",
   "execution_count": null,
   "id": "a8831e9e",
   "metadata": {},
   "outputs": [],
   "source": []
  },
  {
   "cell_type": "code",
   "execution_count": 451,
   "id": "7bdd7b5c",
   "metadata": {},
   "outputs": [
    {
     "data": {
      "text/plain": [
       "Gender\n",
       "F    730543.40\n",
       "M    868179.05\n",
       "Name: Purchase_Total, dtype: float64"
      ]
     },
     "execution_count": 451,
     "metadata": {},
     "output_type": "execute_result"
    }
   ],
   "source": [
    "sample_03.groupby(['Gender'])['Purchase_Total'].mean()"
   ]
  },
  {
   "cell_type": "code",
   "execution_count": null,
   "id": "a922bd1a",
   "metadata": {},
   "outputs": [],
   "source": []
  },
  {
   "cell_type": "code",
   "execution_count": 452,
   "id": "13322bd8",
   "metadata": {},
   "outputs": [],
   "source": [
    "mean_Purchase_Total_Male_sample_03=868179.05"
   ]
  },
  {
   "cell_type": "code",
   "execution_count": 453,
   "id": "e698a1e4",
   "metadata": {},
   "outputs": [],
   "source": [
    "mean_Purchase_Total_Female_sample_03=730543.40"
   ]
  },
  {
   "cell_type": "code",
   "execution_count": null,
   "id": "0e449f2a",
   "metadata": {},
   "outputs": [],
   "source": []
  },
  {
   "cell_type": "code",
   "execution_count": 454,
   "id": "f30b891c",
   "metadata": {},
   "outputs": [
    {
     "data": {
      "text/plain": [
       "Gender\n",
       "F    808280.588110\n",
       "M    933881.534706\n",
       "Name: Purchase_Total, dtype: float64"
      ]
     },
     "execution_count": 454,
     "metadata": {},
     "output_type": "execute_result"
    }
   ],
   "source": [
    "sample_03.groupby(['Gender'])['Purchase_Total'].std()"
   ]
  },
  {
   "cell_type": "code",
   "execution_count": null,
   "id": "0254efd0",
   "metadata": {},
   "outputs": [],
   "source": []
  },
  {
   "cell_type": "code",
   "execution_count": 461,
   "id": "74b0fb8e",
   "metadata": {},
   "outputs": [],
   "source": [
    "std_Purchase_Total_Male_sample_03=933881.534706"
   ]
  },
  {
   "cell_type": "code",
   "execution_count": 466,
   "id": "860252b8",
   "metadata": {},
   "outputs": [],
   "source": [
    "std_Purchase_Total_Female_sample_03=808280.588110"
   ]
  },
  {
   "cell_type": "markdown",
   "id": "40fc7806",
   "metadata": {},
   "source": [
    "### 95% CI Fails for sample size=200 as CI  for Male and Female are overlapping"
   ]
  },
  {
   "cell_type": "code",
   "execution_count": 467,
   "id": "49b0c9ae",
   "metadata": {},
   "outputs": [],
   "source": [
    "CI_95_Male_sample_03=norm.interval(0.95,loc=mean_Purchase_Total_Male_sample_03,scale=(std_Purchase_Total_Male_sample_03/np.sqrt(140)))"
   ]
  },
  {
   "cell_type": "code",
   "execution_count": 468,
   "id": "d407d045",
   "metadata": {},
   "outputs": [
    {
     "data": {
      "text/plain": [
       "(713484.1979224844, 1022873.9020775157)"
      ]
     },
     "execution_count": 468,
     "metadata": {},
     "output_type": "execute_result"
    }
   ],
   "source": [
    "CI_95_Male_sample_03"
   ]
  },
  {
   "cell_type": "code",
   "execution_count": 469,
   "id": "8e682205",
   "metadata": {},
   "outputs": [],
   "source": [
    "CI_95_Female_sample_03=norm.interval(0.95,loc=mean_Purchase_Total_Female_sample_03,scale=(std_Purchase_Total_Female_sample_03/np.sqrt(60)))"
   ]
  },
  {
   "cell_type": "code",
   "execution_count": 470,
   "id": "7e974ae6",
   "metadata": {},
   "outputs": [
    {
     "data": {
      "text/plain": [
       "(526023.9507168308, 935062.8492831693)"
      ]
     },
     "execution_count": 470,
     "metadata": {},
     "output_type": "execute_result"
    }
   ],
   "source": [
    "CI_95_Female_sample_03"
   ]
  },
  {
   "cell_type": "code",
   "execution_count": null,
   "id": "bfc57ee6",
   "metadata": {},
   "outputs": [],
   "source": []
  },
  {
   "cell_type": "markdown",
   "id": "ce7927f9",
   "metadata": {},
   "source": [
    "### 92% CI: Fails for sample size=200 as CI  for Male and Female are overlapping"
   ]
  },
  {
   "cell_type": "code",
   "execution_count": null,
   "id": "b2abec70",
   "metadata": {},
   "outputs": [],
   "source": []
  },
  {
   "cell_type": "code",
   "execution_count": 471,
   "id": "f32a8152",
   "metadata": {},
   "outputs": [],
   "source": [
    "CI_92_Male_sample_03=norm.interval(0.92,loc=mean_Purchase_Total_Male_sample_03,scale=(std_Purchase_Total_Male_sample_03/np.sqrt(140)))"
   ]
  },
  {
   "cell_type": "code",
   "execution_count": 472,
   "id": "8fbb33ec",
   "metadata": {},
   "outputs": [
    {
     "data": {
      "text/plain": [
       "(730001.9585010072, 1006356.1414989928)"
      ]
     },
     "execution_count": 472,
     "metadata": {},
     "output_type": "execute_result"
    }
   ],
   "source": [
    "CI_92_Male_sample_03"
   ]
  },
  {
   "cell_type": "code",
   "execution_count": 473,
   "id": "4be0acba",
   "metadata": {},
   "outputs": [],
   "source": [
    "CI_92_Female_sample_03=norm.interval(0.92,loc=mean_Purchase_Total_Female_sample_03,scale=(std_Purchase_Total_Female_sample_03/np.sqrt(60)))"
   ]
  },
  {
   "cell_type": "code",
   "execution_count": 474,
   "id": "4d7b2915",
   "metadata": {},
   "outputs": [
    {
     "data": {
      "text/plain": [
       "(547861.8027949204, 913224.9972050795)"
      ]
     },
     "execution_count": 474,
     "metadata": {},
     "output_type": "execute_result"
    }
   ],
   "source": [
    "CI_92_Female_sample_03"
   ]
  },
  {
   "cell_type": "code",
   "execution_count": null,
   "id": "4982f652",
   "metadata": {},
   "outputs": [],
   "source": []
  },
  {
   "cell_type": "markdown",
   "id": "a20fcb38",
   "metadata": {},
   "source": [
    "### 90% CI: Fails for sample size=200 as CI  for Male and Female are overlapping"
   ]
  },
  {
   "cell_type": "code",
   "execution_count": 475,
   "id": "1de92b5c",
   "metadata": {},
   "outputs": [],
   "source": [
    "CI_90_Male_sample_03=norm.interval(0.90,loc=mean_Purchase_Total_Male_sample_03,scale=(std_Purchase_Total_Male_sample_03/np.sqrt(140)))"
   ]
  },
  {
   "cell_type": "code",
   "execution_count": 476,
   "id": "ef76567a",
   "metadata": {},
   "outputs": [
    {
     "data": {
      "text/plain": [
       "(738355.0376622757, 998003.0623377243)"
      ]
     },
     "execution_count": 476,
     "metadata": {},
     "output_type": "execute_result"
    }
   ],
   "source": [
    "CI_90_Male_sample_03"
   ]
  },
  {
   "cell_type": "code",
   "execution_count": 477,
   "id": "f0ee05d3",
   "metadata": {},
   "outputs": [],
   "source": [
    "CI_90_Female_sample_03=norm.interval(0.90,loc=mean_Purchase_Total_Female_sample_03,scale=(std_Purchase_Total_Female_sample_03/np.sqrt(60)))"
   ]
  },
  {
   "cell_type": "code",
   "execution_count": 478,
   "id": "e673c829",
   "metadata": {},
   "outputs": [
    {
     "data": {
      "text/plain": [
       "(558905.2675704987, 902181.5324295012)"
      ]
     },
     "execution_count": 478,
     "metadata": {},
     "output_type": "execute_result"
    }
   ],
   "source": [
    "CI_90_Female_sample_03"
   ]
  },
  {
   "cell_type": "code",
   "execution_count": null,
   "id": "f98257d6",
   "metadata": {},
   "outputs": [],
   "source": []
  },
  {
   "cell_type": "markdown",
   "id": "074559d4",
   "metadata": {},
   "source": [
    "### 85% CI: Fails for sample size=200 as CI  for Male and Female are overlapping"
   ]
  },
  {
   "cell_type": "code",
   "execution_count": 479,
   "id": "f15dd29f",
   "metadata": {},
   "outputs": [],
   "source": [
    "CI_85_Male_sample_03=norm.interval(0.85,loc=mean_Purchase_Total_Male_sample_03,scale=(std_Purchase_Total_Male_sample_03/np.sqrt(140)))"
   ]
  },
  {
   "cell_type": "code",
   "execution_count": 480,
   "id": "e51c453c",
   "metadata": {},
   "outputs": [
    {
     "data": {
      "text/plain": [
       "(754560.5806228644, 981797.5193771358)"
      ]
     },
     "execution_count": 480,
     "metadata": {},
     "output_type": "execute_result"
    }
   ],
   "source": [
    "CI_85_Male_sample_03"
   ]
  },
  {
   "cell_type": "code",
   "execution_count": 481,
   "id": "602a575c",
   "metadata": {},
   "outputs": [],
   "source": [
    "CI_85_Female_sample_03=norm.interval(0.85,loc=mean_Purchase_Total_Female_sample_03,scale=(std_Purchase_Total_Female_sample_03/np.sqrt(60)))"
   ]
  },
  {
   "cell_type": "code",
   "execution_count": 482,
   "id": "8e42fd0b",
   "metadata": {},
   "outputs": [
    {
     "data": {
      "text/plain": [
       "(580330.3420130119, 880756.4579869882)"
      ]
     },
     "execution_count": 482,
     "metadata": {},
     "output_type": "execute_result"
    }
   ],
   "source": [
    "CI_85_Female_sample_03"
   ]
  },
  {
   "cell_type": "code",
   "execution_count": null,
   "id": "8a43d73c",
   "metadata": {},
   "outputs": [],
   "source": []
  },
  {
   "cell_type": "markdown",
   "id": "8045aebf",
   "metadata": {},
   "source": [
    "### 75% CI: Fails for sample size=200 as CI  for Male and Female are overlapping"
   ]
  },
  {
   "cell_type": "code",
   "execution_count": 483,
   "id": "55facc4c",
   "metadata": {},
   "outputs": [],
   "source": [
    "CI_75_Male_sample_03=norm.interval(0.75,loc=mean_Purchase_Total_Male_sample_03,scale=(std_Purchase_Total_Male_sample_03/np.sqrt(140)))"
   ]
  },
  {
   "cell_type": "code",
   "execution_count": 484,
   "id": "8c72c0df",
   "metadata": {},
   "outputs": [
    {
     "data": {
      "text/plain": [
       "(777384.9697830165, 958973.1302169836)"
      ]
     },
     "execution_count": 484,
     "metadata": {},
     "output_type": "execute_result"
    }
   ],
   "source": [
    "CI_75_Male_sample_03"
   ]
  },
  {
   "cell_type": "code",
   "execution_count": 485,
   "id": "f2f5935b",
   "metadata": {},
   "outputs": [],
   "source": [
    "CI_75_Female_sample_03=norm.interval(0.75,loc=mean_Purchase_Total_Female_sample_03,scale=(std_Purchase_Total_Female_sample_03/np.sqrt(60)))"
   ]
  },
  {
   "cell_type": "code",
   "execution_count": 486,
   "id": "3abbe4d5",
   "metadata": {},
   "outputs": [
    {
     "data": {
      "text/plain": [
       "(610506.0811443953, 850580.7188556048)"
      ]
     },
     "execution_count": 486,
     "metadata": {},
     "output_type": "execute_result"
    }
   ],
   "source": [
    "CI_75_Female_sample_03"
   ]
  },
  {
   "cell_type": "code",
   "execution_count": null,
   "id": "0b48689c",
   "metadata": {},
   "outputs": [],
   "source": []
  },
  {
   "cell_type": "markdown",
   "id": "c9de748c",
   "metadata": {},
   "source": [
    "### 65% CI: Fails for sample size=200 as CI  for Male and Female are overlapping"
   ]
  },
  {
   "cell_type": "code",
   "execution_count": 487,
   "id": "6eda77a6",
   "metadata": {},
   "outputs": [],
   "source": [
    "CI_65_Male_sample_03=norm.interval(0.65,loc=mean_Purchase_Total_Male_sample_03,scale=(std_Purchase_Total_Male_sample_03/np.sqrt(140)))"
   ]
  },
  {
   "cell_type": "code",
   "execution_count": 488,
   "id": "11378b38",
   "metadata": {},
   "outputs": [
    {
     "data": {
      "text/plain": [
       "(794414.3516299073, 941943.7483700928)"
      ]
     },
     "execution_count": 488,
     "metadata": {},
     "output_type": "execute_result"
    }
   ],
   "source": [
    "CI_65_Male_sample_03"
   ]
  },
  {
   "cell_type": "code",
   "execution_count": 489,
   "id": "0c43a1e3",
   "metadata": {},
   "outputs": [],
   "source": [
    "CI_65_Female_sample_03=norm.interval(0.65,loc=mean_Purchase_Total_Female_sample_03,scale=(std_Purchase_Total_Female_sample_03/np.sqrt(60)))"
   ]
  },
  {
   "cell_type": "code",
   "execution_count": 490,
   "id": "c111633a",
   "metadata": {},
   "outputs": [
    {
     "data": {
      "text/plain": [
       "(633020.3390539841, 828066.4609460158)"
      ]
     },
     "execution_count": 490,
     "metadata": {},
     "output_type": "execute_result"
    }
   ],
   "source": [
    "CI_65_Female_sample_03"
   ]
  },
  {
   "cell_type": "code",
   "execution_count": null,
   "id": "57307476",
   "metadata": {},
   "outputs": [],
   "source": []
  },
  {
   "cell_type": "markdown",
   "id": "fd8e89c4",
   "metadata": {},
   "source": [
    "### 60% CI: Fails for sample size=200 as CI  for Male and Female are overlapping"
   ]
  },
  {
   "cell_type": "code",
   "execution_count": 491,
   "id": "295212f4",
   "metadata": {},
   "outputs": [],
   "source": [
    "CI_60_Male_sample_03=norm.interval(0.60,loc=mean_Purchase_Total_Male_sample_03,scale=(std_Purchase_Total_Male_sample_03/np.sqrt(140)))"
   ]
  },
  {
   "cell_type": "code",
   "execution_count": 492,
   "id": "6e69d4b0",
   "metadata": {},
   "outputs": [
    {
     "data": {
      "text/plain": [
       "(801752.0782495926, 934606.0217504075)"
      ]
     },
     "execution_count": 492,
     "metadata": {},
     "output_type": "execute_result"
    }
   ],
   "source": [
    "CI_60_Male_sample_03"
   ]
  },
  {
   "cell_type": "code",
   "execution_count": 493,
   "id": "4badea4e",
   "metadata": {},
   "outputs": [],
   "source": [
    "CI_60_Female_sample_03=norm.interval(0.60,loc=mean_Purchase_Total_Female_sample_03,scale=(std_Purchase_Total_Female_sample_03/np.sqrt(60)))"
   ]
  },
  {
   "cell_type": "code",
   "execution_count": 494,
   "id": "fdd0d965",
   "metadata": {},
   "outputs": [
    {
     "data": {
      "text/plain": [
       "(642721.4233957987, 818365.3766042014)"
      ]
     },
     "execution_count": 494,
     "metadata": {},
     "output_type": "execute_result"
    }
   ],
   "source": [
    "CI_60_Female_sample_03"
   ]
  },
  {
   "cell_type": "code",
   "execution_count": null,
   "id": "8a4d745f",
   "metadata": {},
   "outputs": [],
   "source": []
  },
  {
   "cell_type": "markdown",
   "id": "fdd651a0",
   "metadata": {},
   "source": [
    "### 58% CI: Fails for sample size=200 as CI  for Male and Female are overlapping"
   ]
  },
  {
   "cell_type": "code",
   "execution_count": null,
   "id": "122bb598",
   "metadata": {},
   "outputs": [],
   "source": []
  },
  {
   "cell_type": "code",
   "execution_count": 495,
   "id": "c5928892",
   "metadata": {},
   "outputs": [],
   "source": [
    "CI_58_Male_sample_03=norm.interval(0.58,loc=mean_Purchase_Total_Male_sample_03,scale=(std_Purchase_Total_Male_sample_03/np.sqrt(140)))"
   ]
  },
  {
   "cell_type": "code",
   "execution_count": 496,
   "id": "4c82f073",
   "metadata": {},
   "outputs": [
    {
     "data": {
      "text/plain": [
       "(804530.3215010795, 931827.7784989206)"
      ]
     },
     "execution_count": 496,
     "metadata": {},
     "output_type": "execute_result"
    }
   ],
   "source": [
    "CI_58_Male_sample_03"
   ]
  },
  {
   "cell_type": "code",
   "execution_count": 497,
   "id": "bc21648a",
   "metadata": {},
   "outputs": [],
   "source": [
    "CI_58_Female_sample_03=norm.interval(0.58,loc=mean_Purchase_Total_Female_sample_03,scale=(std_Purchase_Total_Female_sample_03/np.sqrt(60)))"
   ]
  },
  {
   "cell_type": "code",
   "execution_count": 498,
   "id": "b39598db",
   "metadata": {},
   "outputs": [
    {
     "data": {
      "text/plain": [
       "(646394.4918407917, 814692.3081592084)"
      ]
     },
     "execution_count": 498,
     "metadata": {},
     "output_type": "execute_result"
    }
   ],
   "source": [
    "CI_58_Female_sample_03"
   ]
  },
  {
   "cell_type": "code",
   "execution_count": null,
   "id": "abeff3a4",
   "metadata": {},
   "outputs": [],
   "source": []
  },
  {
   "cell_type": "markdown",
   "id": "01811984",
   "metadata": {},
   "source": [
    "### 56% CI: Fails for sample size=200 as CI  for Male and Female are overlapping"
   ]
  },
  {
   "cell_type": "code",
   "execution_count": null,
   "id": "8b9b760c",
   "metadata": {},
   "outputs": [],
   "source": []
  },
  {
   "cell_type": "code",
   "execution_count": 499,
   "id": "983c93ab",
   "metadata": {},
   "outputs": [],
   "source": [
    "CI_56_Male_sample_03=norm.interval(0.56,loc=mean_Purchase_Total_Male_sample_03,scale=(std_Purchase_Total_Male_sample_03/np.sqrt(140)))"
   ]
  },
  {
   "cell_type": "code",
   "execution_count": 500,
   "id": "4234a400",
   "metadata": {},
   "outputs": [
    {
     "data": {
      "text/plain": [
       "(807231.8509767423, 929126.2490232578)"
      ]
     },
     "execution_count": 500,
     "metadata": {},
     "output_type": "execute_result"
    }
   ],
   "source": [
    "CI_56_Male_sample_03"
   ]
  },
  {
   "cell_type": "code",
   "execution_count": 501,
   "id": "e8591c6b",
   "metadata": {},
   "outputs": [],
   "source": [
    "CI_56_Female_sample_03=norm.interval(0.56,loc=mean_Purchase_Total_Female_sample_03,scale=(std_Purchase_Total_Female_sample_03/np.sqrt(60)))"
   ]
  },
  {
   "cell_type": "code",
   "execution_count": 502,
   "id": "e99f0170",
   "metadata": {},
   "outputs": [
    {
     "data": {
      "text/plain": [
       "(649966.138299382, 811120.6617006181)"
      ]
     },
     "execution_count": 502,
     "metadata": {},
     "output_type": "execute_result"
    }
   ],
   "source": [
    "CI_56_Female_sample_03"
   ]
  },
  {
   "cell_type": "markdown",
   "id": "491b3487",
   "metadata": {},
   "source": [
    "### 54% CI: Holds Good for sample size=200; "
   ]
  },
  {
   "cell_type": "code",
   "execution_count": 503,
   "id": "33cebda0",
   "metadata": {},
   "outputs": [],
   "source": [
    "CI_54_Male_sample_03=norm.interval(0.54,loc=mean_Purchase_Total_Male_sample_03,scale=(std_Purchase_Total_Male_sample_03/np.sqrt(140)))"
   ]
  },
  {
   "cell_type": "code",
   "execution_count": 504,
   "id": "d67bff1b",
   "metadata": {},
   "outputs": [
    {
     "data": {
      "text/plain": [
       "(809863.7927074193, 926494.3072925808)"
      ]
     },
     "execution_count": 504,
     "metadata": {},
     "output_type": "execute_result"
    }
   ],
   "source": [
    "CI_54_Male_sample_03"
   ]
  },
  {
   "cell_type": "code",
   "execution_count": 505,
   "id": "a54c43e9",
   "metadata": {},
   "outputs": [],
   "source": [
    "CI_54_Female_sample_03=norm.interval(0.54,loc=mean_Purchase_Total_Female_sample_03,scale=(std_Purchase_Total_Female_sample_03/np.sqrt(60)))"
   ]
  },
  {
   "cell_type": "code",
   "execution_count": 506,
   "id": "f0fc77af",
   "metadata": {},
   "outputs": [
    {
     "data": {
      "text/plain": [
       "(653445.7839764967, 807641.0160235034)"
      ]
     },
     "execution_count": 506,
     "metadata": {},
     "output_type": "execute_result"
    }
   ],
   "source": [
    "CI_54_Female_sample_03"
   ]
  },
  {
   "cell_type": "code",
   "execution_count": null,
   "id": "fb526950",
   "metadata": {},
   "outputs": [],
   "source": []
  },
  {
   "cell_type": "markdown",
   "id": "13b7d5f0",
   "metadata": {},
   "source": [
    "### other parameters"
   ]
  },
  {
   "cell_type": "code",
   "execution_count": 508,
   "id": "4f382c37",
   "metadata": {},
   "outputs": [
    {
     "data": {
      "text/html": [
       "<div>\n",
       "<style scoped>\n",
       "    .dataframe tbody tr th:only-of-type {\n",
       "        vertical-align: middle;\n",
       "    }\n",
       "\n",
       "    .dataframe tbody tr th {\n",
       "        vertical-align: top;\n",
       "    }\n",
       "\n",
       "    .dataframe thead th {\n",
       "        text-align: right;\n",
       "    }\n",
       "</style>\n",
       "<table border=\"1\" class=\"dataframe\">\n",
       "  <thead>\n",
       "    <tr style=\"text-align: right;\">\n",
       "      <th></th>\n",
       "      <th>User_ID</th>\n",
       "      <th>Purchase_Total</th>\n",
       "      <th>Gender</th>\n",
       "      <th>Age</th>\n",
       "      <th>Occupation</th>\n",
       "      <th>City_Category</th>\n",
       "      <th>Stay_In_Current_City_Years</th>\n",
       "      <th>Marital_Status</th>\n",
       "    </tr>\n",
       "  </thead>\n",
       "  <tbody>\n",
       "    <tr>\n",
       "      <th>0</th>\n",
       "      <td>1000001</td>\n",
       "      <td>334093</td>\n",
       "      <td>F</td>\n",
       "      <td>0-17</td>\n",
       "      <td>10</td>\n",
       "      <td>A</td>\n",
       "      <td>2</td>\n",
       "      <td>0</td>\n",
       "    </tr>\n",
       "    <tr>\n",
       "      <th>35</th>\n",
       "      <td>1000002</td>\n",
       "      <td>810472</td>\n",
       "      <td>M</td>\n",
       "      <td>55+</td>\n",
       "      <td>16</td>\n",
       "      <td>C</td>\n",
       "      <td>4+</td>\n",
       "      <td>0</td>\n",
       "    </tr>\n",
       "    <tr>\n",
       "      <th>112</th>\n",
       "      <td>1000003</td>\n",
       "      <td>341635</td>\n",
       "      <td>M</td>\n",
       "      <td>26-35</td>\n",
       "      <td>15</td>\n",
       "      <td>A</td>\n",
       "      <td>3</td>\n",
       "      <td>0</td>\n",
       "    </tr>\n",
       "    <tr>\n",
       "      <th>141</th>\n",
       "      <td>1000004</td>\n",
       "      <td>206468</td>\n",
       "      <td>M</td>\n",
       "      <td>46-50</td>\n",
       "      <td>7</td>\n",
       "      <td>B</td>\n",
       "      <td>2</td>\n",
       "      <td>1</td>\n",
       "    </tr>\n",
       "    <tr>\n",
       "      <th>155</th>\n",
       "      <td>1000005</td>\n",
       "      <td>821001</td>\n",
       "      <td>M</td>\n",
       "      <td>26-35</td>\n",
       "      <td>20</td>\n",
       "      <td>A</td>\n",
       "      <td>1</td>\n",
       "      <td>1</td>\n",
       "    </tr>\n",
       "    <tr>\n",
       "      <th>...</th>\n",
       "      <td>...</td>\n",
       "      <td>...</td>\n",
       "      <td>...</td>\n",
       "      <td>...</td>\n",
       "      <td>...</td>\n",
       "      <td>...</td>\n",
       "      <td>...</td>\n",
       "      <td>...</td>\n",
       "    </tr>\n",
       "    <tr>\n",
       "      <th>549166</th>\n",
       "      <td>1006036</td>\n",
       "      <td>4116058</td>\n",
       "      <td>F</td>\n",
       "      <td>26-35</td>\n",
       "      <td>15</td>\n",
       "      <td>B</td>\n",
       "      <td>4+</td>\n",
       "      <td>1</td>\n",
       "    </tr>\n",
       "    <tr>\n",
       "      <th>549680</th>\n",
       "      <td>1006037</td>\n",
       "      <td>1119538</td>\n",
       "      <td>F</td>\n",
       "      <td>46-50</td>\n",
       "      <td>1</td>\n",
       "      <td>C</td>\n",
       "      <td>4+</td>\n",
       "      <td>0</td>\n",
       "    </tr>\n",
       "    <tr>\n",
       "      <th>549802</th>\n",
       "      <td>1006038</td>\n",
       "      <td>90034</td>\n",
       "      <td>F</td>\n",
       "      <td>55+</td>\n",
       "      <td>1</td>\n",
       "      <td>C</td>\n",
       "      <td>2</td>\n",
       "      <td>0</td>\n",
       "    </tr>\n",
       "    <tr>\n",
       "      <th>549814</th>\n",
       "      <td>1006039</td>\n",
       "      <td>590319</td>\n",
       "      <td>F</td>\n",
       "      <td>46-50</td>\n",
       "      <td>0</td>\n",
       "      <td>B</td>\n",
       "      <td>4+</td>\n",
       "      <td>1</td>\n",
       "    </tr>\n",
       "    <tr>\n",
       "      <th>549888</th>\n",
       "      <td>1006040</td>\n",
       "      <td>1653299</td>\n",
       "      <td>M</td>\n",
       "      <td>26-35</td>\n",
       "      <td>6</td>\n",
       "      <td>B</td>\n",
       "      <td>2</td>\n",
       "      <td>0</td>\n",
       "    </tr>\n",
       "  </tbody>\n",
       "</table>\n",
       "<p>5891 rows × 8 columns</p>\n",
       "</div>"
      ],
      "text/plain": [
       "        User_ID  Purchase_Total Gender    Age  Occupation City_Category  \\\n",
       "0       1000001          334093      F   0-17          10             A   \n",
       "35      1000002          810472      M    55+          16             C   \n",
       "112     1000003          341635      M  26-35          15             A   \n",
       "141     1000004          206468      M  46-50           7             B   \n",
       "155     1000005          821001      M  26-35          20             A   \n",
       "...         ...             ...    ...    ...         ...           ...   \n",
       "549166  1006036         4116058      F  26-35          15             B   \n",
       "549680  1006037         1119538      F  46-50           1             C   \n",
       "549802  1006038           90034      F    55+           1             C   \n",
       "549814  1006039          590319      F  46-50           0             B   \n",
       "549888  1006040         1653299      M  26-35           6             B   \n",
       "\n",
       "       Stay_In_Current_City_Years  Marital_Status  \n",
       "0                               2               0  \n",
       "35                             4+               0  \n",
       "112                             3               0  \n",
       "141                             2               1  \n",
       "155                             1               1  \n",
       "...                           ...             ...  \n",
       "549166                         4+               1  \n",
       "549680                         4+               0  \n",
       "549802                          2               0  \n",
       "549814                         4+               1  \n",
       "549888                          2               0  \n",
       "\n",
       "[5891 rows x 8 columns]"
      ]
     },
     "execution_count": 508,
     "metadata": {},
     "output_type": "execute_result"
    }
   ],
   "source": [
    "df2"
   ]
  },
  {
   "cell_type": "code",
   "execution_count": 527,
   "id": "4341d1ac",
   "metadata": {},
   "outputs": [
    {
     "data": {
      "text/plain": [
       "<Axes: xlabel='Age', ylabel='Purchase_Total'>"
      ]
     },
     "execution_count": 527,
     "metadata": {},
     "output_type": "execute_result"
    },
    {
     "data": {
      "image/png": "[encoded data removed]",
      "text/plain": [
       "<Figure size 640x480 with 1 Axes>"
      ]
     },
     "metadata": {},
     "output_type": "display_data"
    }
   ],
   "source": [
    "sns.barplot(x='Age',y='Purchase_Total', data=df2,hue='Gender')"
   ]
  },
  {
   "cell_type": "code",
   "execution_count": 528,
   "id": "6d003ded",
   "metadata": {},
   "outputs": [
    {
     "data": {
      "text/plain": [
       "<Axes: xlabel='Age', ylabel='Purchase_Total'>"
      ]
     },
     "execution_count": 528,
     "metadata": {},
     "output_type": "execute_result"
    },
    {
     "data": {
      "image/png": "[encoded data removed]",
      "text/plain": [
       "<Figure size 640x480 with 1 Axes>"
      ]
     },
     "metadata": {},
     "output_type": "display_data"
    }
   ],
   "source": [
    "sns.boxplot(data=df2,x='Age', y='Purchase_Total',hue='Gender')"
   ]
  },
  {
   "cell_type": "markdown",
   "id": "503dff61",
   "metadata": {},
   "source": [
    "#### In each age group, Male users have Purchased more than Female users (even though Age groupwise Confidence Intervals \n",
    "#### are not calculated.\n",
    "#### Age group 26-35 shows more Purchase_Totals followed by 36-45 age group\n",
    "#### more outliers are seen in 26-35, 36-45 and also 46-50 age groups\n",
    "#### spread of the data is more for Male compared to Females across all age groups"
   ]
  },
  {
   "cell_type": "code",
   "execution_count": 523,
   "id": "1a6eda6f",
   "metadata": {},
   "outputs": [
    {
     "data": {
      "text/plain": [
       "<Axes: xlabel='Purchase_Total', ylabel='Count'>"
      ]
     },
     "execution_count": 523,
     "metadata": {},
     "output_type": "execute_result"
    },
    {
     "data": {
      "image/png": "[encoded data removed]",
      "text/plain": [
       "<Figure size 640x480 with 1 Axes>"
      ]
     },
     "metadata": {},
     "output_type": "display_data"
    }
   ],
   "source": [
    "sns.histplot(data=df2,x='Purchase_Total',bins=10)"
   ]
  },
  {
   "cell_type": "code",
   "execution_count": null,
   "id": "63b93278",
   "metadata": {},
   "outputs": [],
   "source": []
  },
  {
   "cell_type": "code",
   "execution_count": 524,
   "id": "18f3526b",
   "metadata": {},
   "outputs": [
    {
     "data": {
      "text/plain": [
       "<Axes: xlabel='Purchase_Total', ylabel='Count'>"
      ]
     },
     "execution_count": 524,
     "metadata": {},
     "output_type": "execute_result"
    },
    {
     "data": {
      "image/png": "[encoded data removed]",
      "text/plain": [
       "<Figure size 640x480 with 1 Axes>"
      ]
     },
     "metadata": {},
     "output_type": "display_data"
    }
   ],
   "source": [
    "sns.histplot(data=sample_01,x='Purchase_Total',bins=10)"
   ]
  },
  {
   "cell_type": "code",
   "execution_count": null,
   "id": "23689550",
   "metadata": {},
   "outputs": [],
   "source": []
  },
  {
   "cell_type": "code",
   "execution_count": 525,
   "id": "00a09f1f",
   "metadata": {},
   "outputs": [
    {
     "data": {
      "text/plain": [
       "<Axes: xlabel='Purchase_Total', ylabel='Count'>"
      ]
     },
     "execution_count": 525,
     "metadata": {},
     "output_type": "execute_result"
    },
    {
     "data": {
      "image/png": "[encoded data removed]",
      "text/plain": [
       "<Figure size 640x480 with 1 Axes>"
      ]
     },
     "metadata": {},
     "output_type": "display_data"
    }
   ],
   "source": [
    "sns.histplot(data=sample_02,x='Purchase_Total',bins=10)"
   ]
  },
  {
   "cell_type": "code",
   "execution_count": null,
   "id": "c88cfcc3",
   "metadata": {},
   "outputs": [],
   "source": []
  },
  {
   "cell_type": "code",
   "execution_count": 526,
   "id": "66535145",
   "metadata": {},
   "outputs": [
    {
     "data": {
      "text/plain": [
       "<Axes: xlabel='Purchase_Total', ylabel='Count'>"
      ]
     },
     "execution_count": 526,
     "metadata": {},
     "output_type": "execute_result"
    },
    {
     "data": {
      "image/png": "[encoded data removed]",
      "text/plain": [
       "<Figure size 640x480 with 1 Axes>"
      ]
     },
     "metadata": {},
     "output_type": "display_data"
    }
   ],
   "source": [
    "sns.histplot(data=sample_03,x='Purchase_Total',bins=10)"
   ]
  },
  {
   "cell_type": "markdown",
   "id": "0976d72c",
   "metadata": {},
   "source": [
    "### Distribution pattern is similar (in main data frame and all samples 01-03, indicating samples are representative of the population)"
   ]
  },
  {
   "cell_type": "code",
   "execution_count": 568,
   "id": "c15f4631",
   "metadata": {},
   "outputs": [
    {
     "data": {
      "text/html": [
       "<div>\n",
       "<style scoped>\n",
       "    .dataframe tbody tr th:only-of-type {\n",
       "        vertical-align: middle;\n",
       "    }\n",
       "\n",
       "    .dataframe tbody tr th {\n",
       "        vertical-align: top;\n",
       "    }\n",
       "\n",
       "    .dataframe thead th {\n",
       "        text-align: right;\n",
       "    }\n",
       "</style>\n",
       "<table border=\"1\" class=\"dataframe\">\n",
       "  <thead>\n",
       "    <tr style=\"text-align: right;\">\n",
       "      <th></th>\n",
       "      <th>User_ID</th>\n",
       "      <th>Product_ID</th>\n",
       "      <th>Gender</th>\n",
       "      <th>Age</th>\n",
       "      <th>Occupation</th>\n",
       "      <th>City_Category</th>\n",
       "      <th>Stay_In_Current_City_Years</th>\n",
       "      <th>Marital_Status</th>\n",
       "      <th>Product_Category</th>\n",
       "      <th>Purchase</th>\n",
       "    </tr>\n",
       "  </thead>\n",
       "  <tbody>\n",
       "    <tr>\n",
       "      <th>0</th>\n",
       "      <td>1000001</td>\n",
       "      <td>P00069042</td>\n",
       "      <td>F</td>\n",
       "      <td>0-17</td>\n",
       "      <td>10</td>\n",
       "      <td>A</td>\n",
       "      <td>2</td>\n",
       "      <td>0</td>\n",
       "      <td>3</td>\n",
       "      <td>8370</td>\n",
       "    </tr>\n",
       "    <tr>\n",
       "      <th>1</th>\n",
       "      <td>1000001</td>\n",
       "      <td>P00248942</td>\n",
       "      <td>F</td>\n",
       "      <td>0-17</td>\n",
       "      <td>10</td>\n",
       "      <td>A</td>\n",
       "      <td>2</td>\n",
       "      <td>0</td>\n",
       "      <td>1</td>\n",
       "      <td>15200</td>\n",
       "    </tr>\n",
       "    <tr>\n",
       "      <th>2</th>\n",
       "      <td>1000001</td>\n",
       "      <td>P00087842</td>\n",
       "      <td>F</td>\n",
       "      <td>0-17</td>\n",
       "      <td>10</td>\n",
       "      <td>A</td>\n",
       "      <td>2</td>\n",
       "      <td>0</td>\n",
       "      <td>12</td>\n",
       "      <td>1422</td>\n",
       "    </tr>\n",
       "    <tr>\n",
       "      <th>3</th>\n",
       "      <td>1000001</td>\n",
       "      <td>P00085442</td>\n",
       "      <td>F</td>\n",
       "      <td>0-17</td>\n",
       "      <td>10</td>\n",
       "      <td>A</td>\n",
       "      <td>2</td>\n",
       "      <td>0</td>\n",
       "      <td>12</td>\n",
       "      <td>1057</td>\n",
       "    </tr>\n",
       "    <tr>\n",
       "      <th>4</th>\n",
       "      <td>1000002</td>\n",
       "      <td>P00285442</td>\n",
       "      <td>M</td>\n",
       "      <td>55+</td>\n",
       "      <td>16</td>\n",
       "      <td>C</td>\n",
       "      <td>4+</td>\n",
       "      <td>0</td>\n",
       "      <td>8</td>\n",
       "      <td>7969</td>\n",
       "    </tr>\n",
       "    <tr>\n",
       "      <th>...</th>\n",
       "      <td>...</td>\n",
       "      <td>...</td>\n",
       "      <td>...</td>\n",
       "      <td>...</td>\n",
       "      <td>...</td>\n",
       "      <td>...</td>\n",
       "      <td>...</td>\n",
       "      <td>...</td>\n",
       "      <td>...</td>\n",
       "      <td>...</td>\n",
       "    </tr>\n",
       "    <tr>\n",
       "      <th>550063</th>\n",
       "      <td>1006033</td>\n",
       "      <td>P00372445</td>\n",
       "      <td>M</td>\n",
       "      <td>51-55</td>\n",
       "      <td>13</td>\n",
       "      <td>B</td>\n",
       "      <td>1</td>\n",
       "      <td>1</td>\n",
       "      <td>20</td>\n",
       "      <td>368</td>\n",
       "    </tr>\n",
       "    <tr>\n",
       "      <th>550064</th>\n",
       "      <td>1006035</td>\n",
       "      <td>P00375436</td>\n",
       "      <td>F</td>\n",
       "      <td>26-35</td>\n",
       "      <td>1</td>\n",
       "      <td>C</td>\n",
       "      <td>3</td>\n",
       "      <td>0</td>\n",
       "      <td>20</td>\n",
       "      <td>371</td>\n",
       "    </tr>\n",
       "    <tr>\n",
       "      <th>550065</th>\n",
       "      <td>1006036</td>\n",
       "      <td>P00375436</td>\n",
       "      <td>F</td>\n",
       "      <td>26-35</td>\n",
       "      <td>15</td>\n",
       "      <td>B</td>\n",
       "      <td>4+</td>\n",
       "      <td>1</td>\n",
       "      <td>20</td>\n",
       "      <td>137</td>\n",
       "    </tr>\n",
       "    <tr>\n",
       "      <th>550066</th>\n",
       "      <td>1006038</td>\n",
       "      <td>P00375436</td>\n",
       "      <td>F</td>\n",
       "      <td>55+</td>\n",
       "      <td>1</td>\n",
       "      <td>C</td>\n",
       "      <td>2</td>\n",
       "      <td>0</td>\n",
       "      <td>20</td>\n",
       "      <td>365</td>\n",
       "    </tr>\n",
       "    <tr>\n",
       "      <th>550067</th>\n",
       "      <td>1006039</td>\n",
       "      <td>P00371644</td>\n",
       "      <td>F</td>\n",
       "      <td>46-50</td>\n",
       "      <td>0</td>\n",
       "      <td>B</td>\n",
       "      <td>4+</td>\n",
       "      <td>1</td>\n",
       "      <td>20</td>\n",
       "      <td>490</td>\n",
       "    </tr>\n",
       "  </tbody>\n",
       "</table>\n",
       "<p>550068 rows × 10 columns</p>\n",
       "</div>"
      ],
      "text/plain": [
       "        User_ID Product_ID Gender    Age  Occupation City_Category  \\\n",
       "0       1000001  P00069042      F   0-17          10             A   \n",
       "1       1000001  P00248942      F   0-17          10             A   \n",
       "2       1000001  P00087842      F   0-17          10             A   \n",
       "3       1000001  P00085442      F   0-17          10             A   \n",
       "4       1000002  P00285442      M    55+          16             C   \n",
       "...         ...        ...    ...    ...         ...           ...   \n",
       "550063  1006033  P00372445      M  51-55          13             B   \n",
       "550064  1006035  P00375436      F  26-35           1             C   \n",
       "550065  1006036  P00375436      F  26-35          15             B   \n",
       "550066  1006038  P00375436      F    55+           1             C   \n",
       "550067  1006039  P00371644      F  46-50           0             B   \n",
       "\n",
       "       Stay_In_Current_City_Years  Marital_Status  Product_Category  Purchase  \n",
       "0                               2               0                 3      8370  \n",
       "1                               2               0                 1     15200  \n",
       "2                               2               0                12      1422  \n",
       "3                               2               0                12      1057  \n",
       "4                              4+               0                 8      7969  \n",
       "...                           ...             ...               ...       ...  \n",
       "550063                          1               1                20       368  \n",
       "550064                          3               0                20       371  \n",
       "550065                         4+               1                20       137  \n",
       "550066                          2               0                20       365  \n",
       "550067                         4+               1                20       490  \n",
       "\n",
       "[550068 rows x 10 columns]"
      ]
     },
     "execution_count": 568,
     "metadata": {},
     "output_type": "execute_result"
    }
   ],
   "source": [
    "df"
   ]
  },
  {
   "cell_type": "markdown",
   "id": "e081ce90",
   "metadata": {},
   "source": [
    "### Approach & observations:\n",
    "1. 3 samples were taken from population with sample sizes 200, 500 and 1000 from population of 5891 unique users. sampling with replacement is considered. \n",
    "2. Estimations were done on Average Purchase_Total from each sample. Larger sample size (1000) gave better estimates even at higher confidence levels (upto 99.8% CI). Lower sample size (200) does not give higher confidence level for the estimates.\n",
    "3. Primary focus was given for Gender and CLT study. Other factors are not analysed in depth."
   ]
  },
  {
   "cell_type": "code",
   "execution_count": null,
   "id": "d9db6019",
   "metadata": {},
   "outputs": [],
   "source": []
  },
  {
   "cell_type": "markdown",
   "id": "cc3431c8",
   "metadata": {},
   "source": [
    "### Recommendations:\n",
    "1. Male users are spending more than Female users. It can be viewed in two ways: 1: give more attention in selling to male users  2: focus more to understand why female users are not spending more... set the goal to generate more revenue from Female users by uncovering the unmet needs / wishes and introducing innovative solutions to attract more female users\n",
    "2. Age groups 26-35, 36-45 and 46-55 are spending more. again 2 views: 1 focus more on generation more and more revenue from these age groups OR 2: understand the needs of other age groups and try to understand the limitations to increase the revenue from these groups.\n",
    "3. City category A and B are spending more where as city Category C is showing less spends. Sell more in A and B cities; come out with innovative solutions to increase spending pattern in C category cities.\n",
    "4. Product Category 5, 1 & 8 together contributing almost 75% of all product categories. ensure availability of these products and ensure smooth  and efficient supply chain management of these products. also try to deep dive into other product categories to understand how to increase sales of these products."
   ]
  },
  {
   "cell_type": "code",
   "execution_count": null,
   "id": "5f95146d",
   "metadata": {},
   "outputs": [],
   "source": []
  },
  {
   "cell_type": "code",
   "execution_count": null,
   "id": "3e5e9545",
   "metadata": {},
   "outputs": [],
   "source": []
  },
  {
   "cell_type": "code",
   "execution_count": null,
   "id": "4abd3caa",
   "metadata": {},
   "outputs": [],
   "source": []
  }
 ],
 "metadata": {
  "kernelspec": {
   "display_name": "Python 3 (ipykernel)",
   "language": "python",
   "name": "python3"
  },
  "language_info": {
   "codemirror_mode": {
    "name": "ipython",
    "version": 3
   },
   "file_extension": ".py",
   "mimetype": "text/x-python",
   "name": "python",
   "nbconvert_exporter": "python",
   "pygments_lexer": "ipython3",
   "version": "3.10.9"
  }
 },
 "nbformat": 4,
 "nbformat_minor": 5
}
